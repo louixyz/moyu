{
 "cells": [
  {
   "cell_type": "code",
   "execution_count": 1,
   "metadata": {},
   "outputs": [],
   "source": [
    "from bs4 import BeautifulSoup\n",
    "import pandas as pd\n",
    "import re\n",
    "import json\n",
    "import numpy as np"
   ]
  },
  {
   "cell_type": "code",
   "execution_count": 25,
   "metadata": {},
   "outputs": [],
   "source": [
    "pd.set_option('display.max_rows', None)"
   ]
  },
  {
   "cell_type": "code",
   "execution_count": 130,
   "metadata": {},
   "outputs": [],
   "source": [
    "soup = BeautifulSoup(open(r'a1.html', encoding='utf-8'))"
   ]
  },
  {
   "cell_type": "code",
   "execution_count": 131,
   "metadata": {},
   "outputs": [],
   "source": [
    "names = [name.string.strip() for name in soup.find_all('div', 'name___3jt4_')]\n",
    "\n",
    "codes = [code.string.strip() for code in soup.find_all('div', 'code___1acmC')]\n",
    "\n",
    "df = pd.DataFrame({'code':codes, 'name':names})\n"
   ]
  },
  {
   "cell_type": "code",
   "execution_count": 132,
   "metadata": {},
   "outputs": [
    {
     "data": {
      "text/html": [
       "<div>\n",
       "<style scoped>\n",
       "    .dataframe tbody tr th:only-of-type {\n",
       "        vertical-align: middle;\n",
       "    }\n",
       "\n",
       "    .dataframe tbody tr th {\n",
       "        vertical-align: top;\n",
       "    }\n",
       "\n",
       "    .dataframe thead th {\n",
       "        text-align: right;\n",
       "    }\n",
       "</style>\n",
       "<table border=\"1\" class=\"dataframe\">\n",
       "  <thead>\n",
       "    <tr style=\"text-align: right;\">\n",
       "      <th></th>\n",
       "      <th>code</th>\n",
       "      <th>name</th>\n",
       "    </tr>\n",
       "  </thead>\n",
       "  <tbody>\n",
       "    <tr>\n",
       "      <th>0</th>\n",
       "      <td>000552</td>\n",
       "      <td>靖远煤电</td>\n",
       "    </tr>\n",
       "    <tr>\n",
       "      <th>1</th>\n",
       "      <td>601000</td>\n",
       "      <td>唐山港</td>\n",
       "    </tr>\n",
       "    <tr>\n",
       "      <th>2</th>\n",
       "      <td>600757</td>\n",
       "      <td>长江传媒</td>\n",
       "    </tr>\n",
       "    <tr>\n",
       "      <th>3</th>\n",
       "      <td>601088</td>\n",
       "      <td>中国神华</td>\n",
       "    </tr>\n",
       "    <tr>\n",
       "      <th>4</th>\n",
       "      <td>601006</td>\n",
       "      <td>大秦铁路</td>\n",
       "    </tr>\n",
       "    <tr>\n",
       "      <th>...</th>\n",
       "      <td>...</td>\n",
       "      <td>...</td>\n",
       "    </tr>\n",
       "    <tr>\n",
       "      <th>95</th>\n",
       "      <td>000799</td>\n",
       "      <td>酒鬼酒</td>\n",
       "    </tr>\n",
       "    <tr>\n",
       "      <th>96</th>\n",
       "      <td>603387</td>\n",
       "      <td>基蛋生物</td>\n",
       "    </tr>\n",
       "    <tr>\n",
       "      <th>97</th>\n",
       "      <td>603596</td>\n",
       "      <td>伯特利</td>\n",
       "    </tr>\n",
       "    <tr>\n",
       "      <th>98</th>\n",
       "      <td>002947</td>\n",
       "      <td>恒铭达</td>\n",
       "    </tr>\n",
       "    <tr>\n",
       "      <th>99</th>\n",
       "      <td>002851</td>\n",
       "      <td>麦格米特</td>\n",
       "    </tr>\n",
       "  </tbody>\n",
       "</table>\n",
       "<p>100 rows × 2 columns</p>\n",
       "</div>"
      ],
      "text/plain": [
       "      code  name\n",
       "0   000552  靖远煤电\n",
       "1   601000   唐山港\n",
       "2   600757  长江传媒\n",
       "3   601088  中国神华\n",
       "4   601006  大秦铁路\n",
       "..     ...   ...\n",
       "95  000799   酒鬼酒\n",
       "96  603387  基蛋生物\n",
       "97  603596   伯特利\n",
       "98  002947   恒铭达\n",
       "99  002851  麦格米特\n",
       "\n",
       "[100 rows x 2 columns]"
      ]
     },
     "execution_count": 132,
     "metadata": {},
     "output_type": "execute_result"
    }
   ],
   "source": [
    "df"
   ]
  },
  {
   "cell_type": "code",
   "execution_count": 133,
   "metadata": {},
   "outputs": [
    {
     "data": {
      "text/plain": [
       "<!DOCTYPE html>\n",
       "<html lang=\"en\"><head><link href=\"/moyu100/static/umi.42493ef9.css\" rel=\"stylesheet\"/><meta charset=\"utf-8\"/><meta content=\"IE=edge\" http-equiv=\"X-UA-Compatible\"/><meta content=\"fullscreen=yes,useHistoryState=yes,transition=yes\" name=\"App-Config\"/><meta content=\"yes\" name=\"apple-mobile-web-app-capable/\"/><meta content=\"yes\" name=\"apple-touch-fullscreen/\"/><meta content=\"telephone=no,email=no\" name=\"format-detection/\"/><meta content=\"width=device-width,initial-scale=1,minimum-scale=1,maximum-scale=1,user-scalable=no,viewport-fit=cover\" name=\"viewport\"/><meta content=\"no-cache\" http-equiv=\"Pragma\"/><meta content=\"no-cache\" http-equiv=\"Cache-Control\"/><title>WECHAT_EMPTY_TITLE</title><link href=\"https://guojiugo.moyugroup.com/readhub/moyugroup_logo.png\" rel=\"icon\" type=\"image/png\"/><!-- Matomo --><script async=\"\" defer=\"\" src=\"//m.moyugroup.com/matomo.js\" type=\"text/javascript\"></script><script type=\"text/javascript\">var _paq = window._paq || [];\n",
       "      /* tracker methods like \"setCustomDimension\" should be called before \"trackPageView\" */\n",
       "      _paq.push(['trackPageView']);\n",
       "      _paq.push(['enableLinkTracking']);\n",
       "      (function() {\n",
       "        var u=\"//m.moyugroup.com/\";\n",
       "        _paq.push(['setTrackerUrl', u+'matomo.php']);\n",
       "        _paq.push(['setSiteId', '6']);\n",
       "        var d=document, g=d.createElement('script'), s=d.getElementsByTagName('script')[0];\n",
       "        g.type='text/javascript'; g.async=true; g.defer=true; g.src=u+'matomo.js'; s.parentNode.insertBefore(g,s);\n",
       "      })();</script><!-- End Matomo Code --><script>window.routerBase = \"/moyu100/static/\";</script><link href=\"/moyu100/static/vendors.1ba7e02e.chunk.css\" rel=\"stylesheet\" type=\"text/css\"/><script charset=\"utf-8\" src=\"/moyu100/static/vendors.84068313.async.js\"></script><link href=\"/moyu100/static/layouts__TabBarLayout.d445cc39.chunk.css\" rel=\"stylesheet\" type=\"text/css\"/><script charset=\"utf-8\" src=\"/moyu100/static/layouts__TabBarLayout.05f63c86.async.js\"></script><style id=\"__WXWORK_INNER_SCROLLBAR_CSS\">::-webkit-scrollbar { width: 12px !important; height: 12px !important; }::-webkit-scrollbar-track:vertical {  }::-webkit-scrollbar-thumb:vertical { background-color: rgba(136, 141, 152, 0.5) !important; border-radius: 10px !important; background-clip: content-box !important; border:2px solid transparent !important; } ::-webkit-scrollbar-track:horizontal {  }::-webkit-scrollbar-thumb:horizontal { background-color: rgba(136, 141, 152, 0.5) !important; border-radius: 10px !important; background-clip: content-box !important; border:2px solid transparent !important; } ::-webkit-resizer { display: none !important; }</style><link href=\"/moyu100/static/p__home__index.1a20b112.chunk.css\" rel=\"stylesheet\" type=\"text/css\"/><script charset=\"utf-8\" src=\"/moyu100/static/p__home__index.f871395b.async.js\"></script></head><body><noscript>Sorry, we need js to run correctly!</noscript><div id=\"wm_div_id\" style=\"pointer-events: none;\"></div><div id=\"root\"><div class=\"container___1XA03\"><div class=\"company___18Qps\"><div class=\"headerBox___yu5m_\"><div class=\"ant-carousel\"><div class=\"slick-slider headerImg___vg7F3 slick-initialized\" dir=\"ltr\"><div class=\"slick-list\"><div class=\"slick-track\" style=\"width: 6644px; opacity: 1; transform: translate3d(-604px, 0px, 0px);\"><div aria-hidden=\"true\" class=\"slick-slide slick-cloned\" data-index=\"-1\" style=\"width: 604px;\" tabindex=\"-1\"><div><div style=\"width: 100%; display: inline-block;\" tabindex=\"-1\"><img alt=\"摸鱼财报助手：会员七折购买特殊链\" class=\"img___1L_cH\" src=\"https://yanbaooss.profeto.cn/assets/imgs/moyu100/banners/1.png\"/></div></div></div><div aria-hidden=\"false\" class=\"slick-slide slick-active slick-current\" data-index=\"0\" style=\"outline: none; width: 604px;\" tabindex=\"-1\"><div><div style=\"width: 100%; display: inline-block;\" tabindex=\"-1\"><img alt=\"技术分析入门课\" class=\"img___1L_cH\" src=\"https://yanbaooss.profeto.cn/assets/imgs/moyu100/banners/5.png\"/></div></div></div><div aria-hidden=\"true\" class=\"slick-slide\" data-index=\"1\" style=\"outline: none; width: 604px;\" tabindex=\"-1\"><div><div style=\"width: 100%; display: inline-block;\" tabindex=\"-1\"><img alt=\"交易系统入门课\" class=\"img___1L_cH\" src=\"https://yanbaooss.profeto.cn/assets/imgs/moyu100/banners/4.png\"/></div></div></div><div aria-hidden=\"true\" class=\"slick-slide\" data-index=\"2\" style=\"outline: none; width: 604px;\" tabindex=\"-1\"><div><div style=\"width: 100%; display: inline-block;\" tabindex=\"-1\"><img alt=\"财务分析基础学习\" class=\"img___1L_cH\" src=\"https://yanbaooss.profeto.cn/assets/imgs/moyu100/banners/3.png\"/></div></div></div><div aria-hidden=\"true\" class=\"slick-slide\" data-index=\"3\" style=\"outline: none; width: 604px;\" tabindex=\"-1\"><div><div style=\"width: 100%; display: inline-block;\" tabindex=\"-1\"><img alt=\"财报分析心法：会员7折链接\" class=\"img___1L_cH\" src=\"https://yanbaooss.profeto.cn/assets/imgs/moyu100/banners/2.png\"/></div></div></div><div aria-hidden=\"true\" class=\"slick-slide\" data-index=\"4\" style=\"outline: none; width: 604px;\" tabindex=\"-1\"><div><div style=\"width: 100%; display: inline-block;\" tabindex=\"-1\"><img alt=\"摸鱼财报助手：会员七折购买特殊链\" class=\"img___1L_cH\" src=\"https://yanbaooss.profeto.cn/assets/imgs/moyu100/banners/1.png\"/></div></div></div><div aria-hidden=\"true\" class=\"slick-slide slick-cloned\" data-index=\"5\" style=\"width: 604px;\" tabindex=\"-1\"><div><div style=\"width: 100%; display: inline-block;\" tabindex=\"-1\"><img alt=\"技术分析入门课\" class=\"img___1L_cH\" src=\"https://yanbaooss.profeto.cn/assets/imgs/moyu100/banners/5.png\"/></div></div></div><div aria-hidden=\"true\" class=\"slick-slide slick-cloned\" data-index=\"6\" style=\"width: 604px;\" tabindex=\"-1\"><div><div style=\"width: 100%; display: inline-block;\" tabindex=\"-1\"><img alt=\"交易系统入门课\" class=\"img___1L_cH\" src=\"https://yanbaooss.profeto.cn/assets/imgs/moyu100/banners/4.png\"/></div></div></div><div aria-hidden=\"true\" class=\"slick-slide slick-cloned\" data-index=\"7\" style=\"width: 604px;\" tabindex=\"-1\"><div><div style=\"width: 100%; display: inline-block;\" tabindex=\"-1\"><img alt=\"财务分析基础学习\" class=\"img___1L_cH\" src=\"https://yanbaooss.profeto.cn/assets/imgs/moyu100/banners/3.png\"/></div></div></div><div aria-hidden=\"true\" class=\"slick-slide slick-cloned\" data-index=\"8\" style=\"width: 604px;\" tabindex=\"-1\"><div><div style=\"width: 100%; display: inline-block;\" tabindex=\"-1\"><img alt=\"财报分析心法：会员7折链接\" class=\"img___1L_cH\" src=\"https://yanbaooss.profeto.cn/assets/imgs/moyu100/banners/2.png\"/></div></div></div><div aria-hidden=\"true\" class=\"slick-slide slick-cloned\" data-index=\"9\" style=\"width: 604px;\" tabindex=\"-1\"><div><div style=\"width: 100%; display: inline-block;\" tabindex=\"-1\"><img alt=\"摸鱼财报助手：会员七折购买特殊链\" class=\"img___1L_cH\" src=\"https://yanbaooss.profeto.cn/assets/imgs/moyu100/banners/1.png\"/></div></div></div></div></div><ul class=\"slick-dots slick-dots-bottom\" style=\"display: block;\"><li class=\"slick-active\"><button>1</button></li><li class=\"\"><button>2</button></li><li class=\"\"><button>3</button></li><li class=\"\"><button>4</button></li><li class=\"\"><button>5</button></li></ul></div></div><div class=\"topTabBox___qe1CN\"><div class=\"topTabList___Ycd6b\"><div class=\"tab___-WVGO screenActive___2lmJq\"><span class=\"tabs___aJHR_\">摸鱼优选</span></div><div class=\"tab___-WVGO\"><span class=\"tabs___aJHR_\">摸鱼干货</span></div><div class=\"tab___-WVGO\"><span class=\"tabs___aJHR_\">优惠卷</span></div><div class=\"timeImgBox___1blMG\"><img alt=\"\" src=\"data:image/png;base64,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\"/></div><div class=\"avatar___27zdp avatar___3nAnO\"><img alt=\"用户头像\" src=\"http://thirdwx.qlogo.cn/mmopen/vi_32/302TpuaGA8mjOkjcJF2PYEablfADhypB6u7lx91plfMxkGWskKaaawHnCwalTVMy723EiccoAJXb8tIqcgXwicVg/132\"/></div></div></div></div><div><div class=\"search___RZZoL\"><div class=\"ant-select-show-search ant-select-auto-complete ant-select ant-select-combobox ant-select-enabled\" style=\"width: 100%;\"><div aria-autocomplete=\"list\" aria-controls=\"baeac86c-5ba0-43a2-c843-970724141c55\" aria-expanded=\"false\" aria-haspopup=\"true\" class=\"ant-select-selection ant-select-selection--single\" role=\"combobox\"><div class=\"ant-select-selection__rendered\"><ul><li class=\"ant-select-search ant-select-search--inline\"><div class=\"ant-select-search__field__wrap\"><span class=\"ant-select-search__field ant-input-affix-wrapper\"><span class=\"ant-input-prefix\"><i aria-label=\"icon: search\" class=\"anticon anticon-search\"><svg aria-hidden=\"true\" class=\"\" data-icon=\"search\" fill=\"currentColor\" focusable=\"false\" height=\"1em\" viewbox=\"64 64 896 896\" width=\"1em\"><path d=\"M909.6 854.5L649.9 594.8C690.2 542.7 712 479 712 412c0-80.2-31.3-155.4-87.9-212.1-56.6-56.7-132-87.9-212.1-87.9s-155.5 31.3-212.1 87.9C143.2 256.5 112 331.8 112 412c0 80.1 31.3 155.5 87.9 212.1C256.5 680.8 331.8 712 412 712c67 0 130.6-21.8 182.7-62l259.7 259.6a8.2 8.2 0 0 0 11.6 0l43.6-43.5a8.2 8.2 0 0 0 0-11.6zM570.4 570.4C528 612.7 471.8 636 412 636s-116-23.3-158.4-65.6C211.3 528 188 471.8 188 412s23.3-116.1 65.6-158.4C296 211.3 352.2 188 412 188s116.1 23.2 158.4 65.6S636 352.2 636 412s-23.3 116.1-65.6 158.4z\"></path></svg></i></span><input class=\"ant-input\" placeholder=\"请输入股票名字/代码\" type=\"text\" value=\"\"/></span><span class=\"ant-select-search__field__mirror\"> </span></div></li></ul></div><span class=\"ant-select-arrow\" style=\"-webkit-user-select: none;\" unselectable=\"on\"><i aria-label=\"icon: down\" class=\"anticon anticon-down ant-select-arrow-icon\"><svg aria-hidden=\"true\" class=\"\" data-icon=\"down\" fill=\"currentColor\" focusable=\"false\" height=\"1em\" viewbox=\"64 64 896 896\" width=\"1em\"><path d=\"M884 256h-75c-5.1 0-9.9 2.5-12.9 6.6L512 654.2 227.9 262.6c-3-4.1-7.8-6.6-12.9-6.6h-75c-6.5 0-10.3 7.4-6.5 12.7l352.6 486.1c12.8 17.6 39 17.6 51.7 0l352.6-486.1c3.9-5.3.1-12.7-6.4-12.7z\"></path></svg></i></span></div></div><div class=\"menu___1y-A0\"><img alt=\"\" src=\"data:image/png;base64,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\"/></div></div><div><div class=\"tabList___3nUTW\"><div class=\"tab___-WVGO screenActive___2lmJq\"><span class=\"tabs___aJHR_\">摸鱼优选</span><p></p></div><div class=\"tab___-WVGO\"><span class=\"tabs___aJHR_\">财报优选</span><p></p></div></div></div><div class=\"screenBox___2wDFX active___Rtvrh\"><div class=\"screenBtnBox___29PTY\"><div class=\"screenMain___2ckNa\"><div class=\"screenHeader___KULNi\"><div>菜单</div><img alt=\"\" src=\"data:image/png;base64,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\"/></div><div class=\"hr___2XFnv\"></div><form action=\" \" id=\"form\" method=\"post\" name=\"form\"><div class=\"screenContant___3HtO_\"><div class=\"screenTitle___3rEuH\">排列方式</div><div class=\"screenTags___1dSFu\"><div class=\"screenTag___2yOAm choiceActive___2FH95\"><img alt=\"\" src=\"data:image/png;base64,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\"/></div><div class=\"screenTag___2yOAm\"><img alt=\"\" src=\"data:image/png;base64,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\"/></div></div><div class=\"screenTitle___3rEuH\">排序方式</div><div class=\"screenTags___1dSFu\"><div class=\"screenTag___2yOAm choiceActive___2FH95\">综合<img alt=\"\" class=\"sm_icon___2MIoB\" src=\"data:image/png;base64,iVBORw0KGgoAAAANSUhEUgAAAA0AAAAHCAYAAADTcMcaAAAAiElEQVQoU52QTwqBcRiEn6dsWaLEMVzAysYRZOdMdnIEKwsncAx/iixt1ehXPkXylVnNvM00b2OSI9DmHVe1V52S7NVBpf0wf5VJor68/4WSHIDOs+Ki9gtP0gKWwBS4AU1gBcx+NiVZAF1gAqyBszqvCzWADTACtsBYvVu3XpKy4g4Yqqfy+gMn8zITLAmY1QAAAABJRU5ErkJggg==\"/></div><div class=\"screenTag___2yOAm\">PE<img alt=\"\" class=\"sm_icon___2MIoB\" src=\"data:image/png;base64,iVBORw0KGgoAAAANSUhEUgAAAAwAAAAHCAYAAAA8sqwkAAAAn0lEQVQoU2OMj419wsDAIMaACl4tXLxYBiYUHxv7aOHixXIgPiOaQqzc+NjY/wsXLwarJV1DXGzsY0YGBnGQ7v8MDC8XLV4sC7MmLibmAuPfv9EMLCxXfv35o8nKwrIarw0xMTFxzAwM5QyMjFoM//9f/s/ENIGgk+JjY+cwMDAkM/z/v2jhkiXxjIRCKTQ0VJqLg+M00+/f5vNXrHgMAC2DOW9RkmNpAAAAAElFTkSuQmCC\"/></div><div class=\"screenTag___2yOAm\">PB<img alt=\"\" class=\"sm_icon___2MIoB\" src=\"data:image/png;base64,iVBORw0KGgoAAAANSUhEUgAAAAwAAAAHCAYAAAA8sqwkAAAAn0lEQVQoU2OMj419wsDAIMaACl4tXLxYBiYUHxv7aOHixXIgPiOaQqzc+NjY/wsXLwarJV1DXGzsY0YGBnGQ7v8MDC8XLV4sC7MmLibmAuPfv9EMLCxXfv35o8nKwrIarw0xMTFxzAwM5QyMjFoM//9f/s/ENIGgk+JjY+cwMDAkM/z/v2jhkiXxjIRCKTQ0VJqLg+M00+/f5vNXrHgMAC2DOW9RkmNpAAAAAElFTkSuQmCC\"/></div></div><div class=\"hr___2XFnv\"></div><div class=\"screenTitle___3rEuH\">万得1级分类</div><div class=\"screenTags___1dSFu\"><div class=\"screenTag___2yOAm\" id=\"信息技术\">信息技术</div><div class=\"screenTag___2yOAm\" id=\"公用事业\">公用事业</div><div class=\"screenTag___2yOAm\" id=\"医疗保健\">医疗保健</div><div class=\"screenTag___2yOAm\" id=\"可选消费\">可选消费</div><div class=\"screenTag___2yOAm\" id=\"工业\">工业</div><div class=\"screenTag___2yOAm\" id=\"房地产\">房地产</div><div class=\"screenTag___2yOAm\" id=\"日常消费\">日常消费</div><div class=\"screenTag___2yOAm\" id=\"材料\">材料</div><div class=\"screenTag___2yOAm\" id=\"电信服务\">电信服务</div><div class=\"screenTag___2yOAm\" id=\"能源\">能源</div><div class=\"screenTag___2yOAm\" id=\"金融\">金融</div></div><div class=\"hr___2XFnv\"></div><div class=\"screenTitle___3rEuH\">省份分类</div><div class=\"screenTags___1dSFu\"><div class=\"screenTag___2yOAm\">上海</div><div class=\"screenTag___2yOAm\">云南</div><div class=\"screenTag___2yOAm\">内蒙古</div><div class=\"screenTag___2yOAm\">北京</div><div class=\"screenTag___2yOAm\">吉林</div><div class=\"screenTag___2yOAm\">四川</div><div class=\"screenTag___2yOAm\">天津</div><div class=\"screenTag___2yOAm\">安徽</div><div class=\"screenTag___2yOAm\">山东</div><div class=\"screenTag___2yOAm\">山西</div><div class=\"screenTag___2yOAm\">广东</div><div class=\"screenTag___2yOAm\">广西</div><div class=\"screenTag___2yOAm\">新疆</div><div class=\"screenTag___2yOAm\">江苏</div><div class=\"screenTag___2yOAm\">江西</div><div class=\"screenTag___2yOAm\">河北</div><div class=\"screenTag___2yOAm\">河南</div><div class=\"screenTag___2yOAm\">浙江</div><div class=\"screenTag___2yOAm\">海南</div><div class=\"screenTag___2yOAm\">湖北</div><div class=\"screenTag___2yOAm\">湖南</div><div class=\"screenTag___2yOAm\">甘肃</div><div class=\"screenTag___2yOAm\">福建</div><div class=\"screenTag___2yOAm\">西藏</div><div class=\"screenTag___2yOAm\">贵州</div><div class=\"screenTag___2yOAm\">辽宁</div><div class=\"screenTag___2yOAm\">重庆</div><div class=\"screenTag___2yOAm\">陕西</div><div class=\"screenTag___2yOAm\">黑龙江</div></div></div></form></div><div class=\"screenFooter___1PEMY\"><div class=\"footSubmit___3twlp\">确定</div><div class=\"footCancel___3acAl\">重置</div></div></div></div><div class=\"tips___3invh\">本工具不构成投资建议，投资有风险，请用户谨慎参考！ <div class=\"icon___3j3KB\">免责声明</div></div><div id=\"card\" style=\"overflow-y: scroll; height: calc(100vh - 290px);\"> <div _echarts_instance_=\"ec_1599532096129\" class=\"echarts-for-react\" size-sensor-id=\"1\" style=\"height: 250px; width: 100%; -webkit-tap-highlight-color: transparent; -webkit-user-select: none; position: relative;\"><div style=\"position: relative; width: 624px; height: 250px; padding: 0px; margin: 0px; border-width: 0px; cursor: pointer;\"><canvas data-zr-dom-id=\"zr_0\" height=\"250\" style=\"position: absolute; left: 0px; top: 0px; width: 624px; height: 250px; -webkit-user-select: none; -webkit-tap-highlight-color: rgba(0, 0, 0, 0); padding: 0px; margin: 0px; border-width: 0px;\" width=\"624\"></canvas><canvas data-zr-dom-id=\"zr_10000\" height=\"250\" style=\"position: absolute; left: 0px; top: 0px; width: 624px; height: 250px; -webkit-user-select: none; -webkit-tap-highlight-color: rgba(0, 0, 0, 0); padding: 0px; margin: 0px; border-width: 0px;\" width=\"624\"></canvas></div><object class=\"size-sensor-object\" data=\"about:blank\" style=\"display: block; position: absolute; top: 0px; left: 0px; height: 100%; width: 100%; overflow: hidden; pointer-events: none; z-index: -1; opacity: 0;\" tabindex=\"-1\" type=\"text/html\"></object><div style='position: absolute; display: block; border-style: solid; white-space: nowrap; z-index: 9999999; transition: left 0.4s cubic-bezier(0.23, 1, 0.32, 1), top 0.4s cubic-bezier(0.23, 1, 0.32, 1); background-color: rgba(50, 50, 50, 0.701961); border-width: 0px; border-color: rgb(51, 51, 51); border-radius: 4px; color: rgb(255, 255, 255); font-style: normal; font-variant: normal; font-weight: normal; font-stretch: normal; font-size: 14px; font-family: \"Microsoft YaHei\"; line-height: 21px; padding: 5px; left: 409px; top: 3px; pointer-events: none;'>\n",
       "<div>\n",
       "<div>麦格米特(002851)</div>\n",
       "<div>摸鱼得分：86</div>\n",
       "<div>市值：153.24 亿</div>\n",
       "<div>PB：7.7</div>\n",
       "<div>ROE：17.77%</div>\n",
       "</div>\n",
       "</div></div> <div class=\"companyCardWrapper___3BFt5\"><div class=\"companyCard___CgdKO\"><img class=\"large___1dfVI\" src=\"https://yanbaooss.profeto.cn/assets/imgs/company_logos/000552.png\"/><div class=\"basic___2722h\"><div class=\"name___3jt4_\">靖远煤电</div><div class=\"code___1acmC\">000552</div></div></div><div class=\"companyCard___CgdKO\"><img class=\"large___1dfVI\" src=\"https://yanbaooss.profeto.cn/assets/imgs/company_logos/601000.png\"/><div class=\"basic___2722h\"><div class=\"name___3jt4_\">唐山港</div><div class=\"code___1acmC\">601000</div></div></div><div class=\"companyCard___CgdKO\"><img class=\"large___1dfVI\" src=\"https://yanbaooss.profeto.cn/assets/imgs/company_logos/600757.png\"/><div class=\"basic___2722h\"><div class=\"name___3jt4_\">长江传媒</div><div class=\"code___1acmC\">600757</div></div></div><div class=\"companyCard___CgdKO\"><img class=\"large___1dfVI\" src=\"https://yanbaooss.profeto.cn/assets/imgs/company_logos/601088.png\"/><div class=\"basic___2722h\"><div class=\"name___3jt4_\">中国神华</div><div class=\"code___1acmC\">601088</div></div></div><div class=\"companyCard___CgdKO\"><img class=\"large___1dfVI\" src=\"https://yanbaooss.profeto.cn/assets/imgs/company_logos/601006.png\"/><div class=\"basic___2722h\"><div class=\"name___3jt4_\">大秦铁路</div><div class=\"code___1acmC\">601006</div></div></div><div class=\"companyCard___CgdKO\"><img class=\"large___1dfVI\" src=\"https://yanbaooss.profeto.cn/assets/imgs/company_logos/002110.png\"/><div class=\"basic___2722h\"><div class=\"name___3jt4_\">三钢闽光</div><div class=\"code___1acmC\">002110</div></div></div><div class=\"companyCard___CgdKO\"><img class=\"large___1dfVI\" src=\"https://yanbaooss.profeto.cn/assets/imgs/company_logos/601801.png\"/><div class=\"basic___2722h\"><div class=\"name___3jt4_\">皖新传媒</div><div class=\"code___1acmC\">601801</div></div></div><div class=\"companyCard___CgdKO\"><img class=\"large___1dfVI\" src=\"https://yanbaooss.profeto.cn/assets/imgs/company_logos/000828.png\"/><div class=\"basic___2722h\"><div class=\"name___3jt4_\">东莞控股</div><div class=\"code___1acmC\">000828</div></div></div><div class=\"companyCard___CgdKO\"><img class=\"large___1dfVI\" src=\"https://yanbaooss.profeto.cn/assets/imgs/company_logos/601163.png\"/><div class=\"basic___2722h\"><div class=\"name___3jt4_\">三角轮胎</div><div class=\"code___1acmC\">601163</div></div></div><div class=\"companyCard___CgdKO\"><img class=\"large___1dfVI\" src=\"https://yanbaooss.profeto.cn/assets/imgs/company_logos/600317.png\"/><div class=\"basic___2722h\"><div class=\"name___3jt4_\">营口港</div><div class=\"code___1acmC\">600317</div></div></div><div class=\"companyCard___CgdKO\"><img class=\"large___1dfVI\" src=\"https://yanbaooss.profeto.cn/assets/imgs/company_logos/600395.png\"/><div class=\"basic___2722h\"><div class=\"name___3jt4_\">盘江股份</div><div class=\"code___1acmC\">600395</div></div></div><div class=\"companyCard___CgdKO\"><img class=\"large___1dfVI\" src=\"https://yanbaooss.profeto.cn/assets/imgs/company_logos/600373.png\"/><div class=\"basic___2722h\"><div class=\"name___3jt4_\">中文传媒</div><div class=\"code___1acmC\">600373</div></div></div><div class=\"companyCard___CgdKO\"><img class=\"large___1dfVI\" src=\"https://yanbaooss.profeto.cn/assets/imgs/company_logos/603113.png\"/><div class=\"basic___2722h\"><div class=\"name___3jt4_\">金能科技</div><div class=\"code___1acmC\">603113</div></div></div><div class=\"companyCard___CgdKO\"><img class=\"large___1dfVI\" src=\"https://yanbaooss.profeto.cn/assets/imgs/company_logos/601928.png\"/><div class=\"basic___2722h\"><div class=\"name___3jt4_\">凤凰传媒</div><div class=\"code___1acmC\">601928</div></div></div><div class=\"companyCard___CgdKO\"><img class=\"large___1dfVI\" src=\"https://yanbaooss.profeto.cn/assets/imgs/company_logos/601225.png\"/><div class=\"basic___2722h\"><div class=\"name___3jt4_\">陕西煤业</div><div class=\"code___1acmC\">601225</div></div></div><div class=\"companyCard___CgdKO\"><img class=\"large___1dfVI\" src=\"https://yanbaooss.profeto.cn/assets/imgs/company_logos/002440.png\"/><div class=\"basic___2722h\"><div class=\"name___3jt4_\">闰土股份</div><div class=\"code___1acmC\">002440</div></div></div><div class=\"companyCard___CgdKO\"><img class=\"large___1dfVI\" src=\"https://yanbaooss.profeto.cn/assets/imgs/company_logos/601019.png\"/><div class=\"basic___2722h\"><div class=\"name___3jt4_\">山东出版</div><div class=\"code___1acmC\">601019</div></div></div><div class=\"companyCard___CgdKO\"><img class=\"large___1dfVI\" src=\"https://yanbaooss.profeto.cn/assets/imgs/company_logos/600987.png\"/><div class=\"basic___2722h\"><div class=\"name___3jt4_\">航民股份</div><div class=\"code___1acmC\">600987</div></div></div><div class=\"companyCard___CgdKO\"><img class=\"large___1dfVI\" src=\"https://yanbaooss.profeto.cn/assets/imgs/company_logos/000581.png\"/><div class=\"basic___2722h\"><div class=\"name___3jt4_\">威孚高科</div><div class=\"code___1acmC\">000581</div></div></div><div class=\"companyCard___CgdKO\"><img class=\"large___1dfVI\" src=\"https://yanbaooss.profeto.cn/assets/imgs/company_logos/000030.png\"/><div class=\"basic___2722h\"><div class=\"name___3jt4_\">富奥股份</div><div class=\"code___1acmC\">000030</div></div></div><div class=\"companyCard___CgdKO\"><img class=\"large___1dfVI\" src=\"https://yanbaooss.profeto.cn/assets/imgs/company_logos/601098.png\"/><div class=\"basic___2722h\"><div class=\"name___3jt4_\">中南传媒</div><div class=\"code___1acmC\">601098</div></div></div><div class=\"companyCard___CgdKO\"><img class=\"large___1dfVI\" src=\"https://yanbaooss.profeto.cn/assets/imgs/company_logos/601900.png\"/><div class=\"basic___2722h\"><div class=\"name___3jt4_\">南方传媒</div><div class=\"code___1acmC\">601900</div></div></div><div class=\"companyCard___CgdKO\"><img class=\"large___1dfVI\" src=\"https://yanbaooss.profeto.cn/assets/imgs/company_logos/603599.png\"/><div class=\"basic___2722h\"><div class=\"name___3jt4_\">广信股份</div><div class=\"code___1acmC\">603599</div></div></div><div class=\"companyCard___CgdKO\"><img class=\"large___1dfVI\" src=\"https://yanbaooss.profeto.cn/assets/imgs/company_logos/601811.png\"/><div class=\"basic___2722h\"><div class=\"name___3jt4_\">新华文轩</div><div class=\"code___1acmC\">601811</div></div></div><div class=\"companyCard___CgdKO\"><img class=\"large___1dfVI\" src=\"https://yanbaooss.profeto.cn/assets/imgs/company_logos/600633.png\"/><div class=\"basic___2722h\"><div class=\"name___3jt4_\">浙数文化</div><div class=\"code___1acmC\">600633</div></div></div><div class=\"companyCard___CgdKO\"><img class=\"large___1dfVI\" src=\"https://yanbaooss.profeto.cn/assets/imgs/company_logos/603367.png\"/><div class=\"basic___2722h\"><div class=\"name___3jt4_\">辰欣药业</div><div class=\"code___1acmC\">603367</div></div></div><div class=\"companyCard___CgdKO\"><img class=\"large___1dfVI\" src=\"https://yanbaooss.profeto.cn/assets/imgs/company_logos/002543.png\"/><div class=\"basic___2722h\"><div class=\"name___3jt4_\">万和电气</div><div class=\"code___1acmC\">002543</div></div></div><div class=\"companyCard___CgdKO\"><img class=\"large___1dfVI\" src=\"https://yanbaooss.profeto.cn/assets/imgs/company_logos/000582.png\"/><div class=\"basic___2722h\"><div class=\"name___3jt4_\">北部湾港</div><div class=\"code___1acmC\">000582</div></div></div><div class=\"companyCard___CgdKO\"><img class=\"large___1dfVI\" src=\"https://yanbaooss.profeto.cn/assets/imgs/company_logos/002233.png\"/><div class=\"basic___2722h\"><div class=\"name___3jt4_\">塔牌集团</div><div class=\"code___1acmC\">002233</div></div></div><div class=\"companyCard___CgdKO\"><img class=\"large___1dfVI\" src=\"https://yanbaooss.profeto.cn/assets/imgs/company_logos/600729.png\"/><div class=\"basic___2722h\"><div class=\"name___3jt4_\">重庆百货</div><div class=\"code___1acmC\">600729</div></div></div><div class=\"companyCard___CgdKO\"><img class=\"large___1dfVI\" src=\"https://yanbaooss.profeto.cn/assets/imgs/company_logos/600750.png\"/><div class=\"basic___2722h\"><div class=\"name___3jt4_\">江中药业</div><div class=\"code___1acmC\">600750</div></div></div><div class=\"companyCard___CgdKO\"><img class=\"large___1dfVI\" src=\"https://yanbaooss.profeto.cn/assets/imgs/company_logos/000902.png\"/><div class=\"basic___2722h\"><div class=\"name___3jt4_\">新洋丰</div><div class=\"code___1acmC\">000902</div></div></div><div class=\"companyCard___CgdKO\"><img class=\"large___1dfVI\" src=\"https://yanbaooss.profeto.cn/assets/imgs/company_logos/600229.png\"/><div class=\"basic___2722h\"><div class=\"name___3jt4_\">城市传媒</div><div class=\"code___1acmC\">600229</div></div></div><div class=\"companyCard___CgdKO\"><img class=\"large___1dfVI\" src=\"https://yanbaooss.profeto.cn/assets/imgs/company_logos/002327.png\"/><div class=\"basic___2722h\"><div class=\"name___3jt4_\">富安娜</div><div class=\"code___1acmC\">002327</div></div></div><div class=\"companyCard___CgdKO\"><img class=\"large___1dfVI\" src=\"https://yanbaooss.profeto.cn/assets/imgs/company_logos/601636.png\"/><div class=\"basic___2722h\"><div class=\"name___3jt4_\">旗滨集团</div><div class=\"code___1acmC\">601636</div></div></div><div class=\"companyCard___CgdKO\"><img class=\"large___1dfVI\" src=\"https://yanbaooss.profeto.cn/assets/imgs/company_logos/600618.png\"/><div class=\"basic___2722h\"><div class=\"name___3jt4_\">氯碱化工</div><div class=\"code___1acmC\">600618</div></div></div><div class=\"companyCard___CgdKO\"><img class=\"large___1dfVI\" src=\"https://yanbaooss.profeto.cn/assets/imgs/company_logos/002293.png\"/><div class=\"basic___2722h\"><div class=\"name___3jt4_\">罗莱生活</div><div class=\"code___1acmC\">002293</div></div></div><div class=\"companyCard___CgdKO\"><img class=\"large___1dfVI\" src=\"https://yanbaooss.profeto.cn/assets/imgs/company_logos/601965.png\"/><div class=\"basic___2722h\"><div class=\"name___3jt4_\">中国汽研</div><div class=\"code___1acmC\">601965</div></div></div><div class=\"companyCard___CgdKO\"><img class=\"large___1dfVI\" src=\"https://yanbaooss.profeto.cn/assets/imgs/company_logos/603298.png\"/><div class=\"basic___2722h\"><div class=\"name___3jt4_\">杭叉集团</div><div class=\"code___1acmC\">603298</div></div></div><div class=\"companyCard___CgdKO\"><img class=\"large___1dfVI\" src=\"https://yanbaooss.profeto.cn/assets/imgs/company_logos/002746.png\"/><div class=\"basic___2722h\"><div class=\"name___3jt4_\">仙坛股份</div><div class=\"code___1acmC\">002746</div></div></div><div class=\"companyCard___CgdKO\"><img class=\"large___1dfVI\" src=\"https://yanbaooss.profeto.cn/assets/imgs/company_logos/600252.png\"/><div class=\"basic___2722h\"><div class=\"name___3jt4_\">中恒集团</div><div class=\"code___1acmC\">600252</div></div></div><div class=\"companyCard___CgdKO\"><img class=\"large___1dfVI\" src=\"https://yanbaooss.profeto.cn/assets/imgs/company_logos/600329.png\"/><div class=\"basic___2722h\"><div class=\"name___3jt4_\">中新药业</div><div class=\"code___1acmC\">600329</div></div></div><div class=\"companyCard___CgdKO\"><div class=\"large___1dfVI\">麒</div><div class=\"basic___2722h\"><div class=\"name___3jt4_\">麒盛科技</div><div class=\"code___1acmC\">603610</div></div></div><div class=\"companyCard___CgdKO\"><img class=\"large___1dfVI\" src=\"https://yanbaooss.profeto.cn/assets/imgs/company_logos/300039.png\"/><div class=\"basic___2722h\"><div class=\"name___3jt4_\">上海凯宝</div><div class=\"code___1acmC\">300039</div></div></div><div class=\"companyCard___CgdKO\"><img class=\"large___1dfVI\" src=\"https://yanbaooss.profeto.cn/assets/imgs/company_logos/000999.png\"/><div class=\"basic___2722h\"><div class=\"name___3jt4_\">华润三九</div><div class=\"code___1acmC\">000999</div></div></div><div class=\"companyCard___CgdKO\"><img class=\"large___1dfVI\" src=\"https://yanbaooss.profeto.cn/assets/imgs/company_logos/600511.png\"/><div class=\"basic___2722h\"><div class=\"name___3jt4_\">国药股份</div><div class=\"code___1acmC\">600511</div></div></div><div class=\"companyCard___CgdKO\"><div class=\"large___1dfVI\">华</div><div class=\"basic___2722h\"><div class=\"name___3jt4_\">华宝股份</div><div class=\"code___1acmC\">300741</div></div></div><div class=\"companyCard___CgdKO\"><img class=\"large___1dfVI\" src=\"https://yanbaooss.profeto.cn/assets/imgs/company_logos/603156.png\"/><div class=\"basic___2722h\"><div class=\"name___3jt4_\">养元饮品</div><div class=\"code___1acmC\">603156</div></div></div><div class=\"companyCard___CgdKO\"><img class=\"large___1dfVI\" src=\"https://yanbaooss.profeto.cn/assets/imgs/company_logos/603609.png\"/><div class=\"basic___2722h\"><div class=\"name___3jt4_\">禾丰牧业</div><div class=\"code___1acmC\">603609</div></div></div><div class=\"companyCard___CgdKO\"><img class=\"large___1dfVI\" src=\"https://yanbaooss.profeto.cn/assets/imgs/company_logos/600380.png\"/><div class=\"basic___2722h\"><div class=\"name___3jt4_\">健康元</div><div class=\"code___1acmC\">600380</div></div></div><div class=\"companyCard___CgdKO\"><img class=\"large___1dfVI\" src=\"https://yanbaooss.profeto.cn/assets/imgs/company_logos/601975.png\"/><div class=\"basic___2722h\"><div class=\"name___3jt4_\">招商南油</div><div class=\"code___1acmC\">601975</div></div></div><div class=\"companyCard___CgdKO\"><img class=\"large___1dfVI\" src=\"https://yanbaooss.profeto.cn/assets/imgs/company_logos/600933.png\"/><div class=\"basic___2722h\"><div class=\"name___3jt4_\">爱柯迪</div><div class=\"code___1acmC\">600933</div></div></div><div class=\"companyCard___CgdKO\"><img class=\"large___1dfVI\" src=\"https://yanbaooss.profeto.cn/assets/imgs/company_logos/002737.png\"/><div class=\"basic___2722h\"><div class=\"name___3jt4_\">葵花药业</div><div class=\"code___1acmC\">002737</div></div></div><div class=\"companyCard___CgdKO\"><img class=\"large___1dfVI\" src=\"https://yanbaooss.profeto.cn/assets/imgs/company_logos/002353.png\"/><div class=\"basic___2722h\"><div class=\"name___3jt4_\">杰瑞股份</div><div class=\"code___1acmC\">002353</div></div></div><div class=\"companyCard___CgdKO\"><img class=\"large___1dfVI\" src=\"https://yanbaooss.profeto.cn/assets/imgs/company_logos/002234.png\"/><div class=\"basic___2722h\"><div class=\"name___3jt4_\">民和股份</div><div class=\"code___1acmC\">002234</div></div></div><div class=\"companyCard___CgdKO\"><img class=\"large___1dfVI\" src=\"https://yanbaooss.profeto.cn/assets/imgs/company_logos/603733.png\"/><div class=\"basic___2722h\"><div class=\"name___3jt4_\">仙鹤股份</div><div class=\"code___1acmC\">603733</div></div></div><div class=\"companyCard___CgdKO\"><img class=\"large___1dfVI\" src=\"https://yanbaooss.profeto.cn/assets/imgs/company_logos/603587.png\"/><div class=\"basic___2722h\"><div class=\"name___3jt4_\">地素时尚</div><div class=\"code___1acmC\">603587</div></div></div><div class=\"companyCard___CgdKO\"><img class=\"large___1dfVI\" src=\"https://yanbaooss.profeto.cn/assets/imgs/company_logos/600211.png\"/><div class=\"basic___2722h\"><div class=\"name___3jt4_\">西藏药业</div><div class=\"code___1acmC\">600211</div></div></div><div class=\"companyCard___CgdKO\"><img class=\"large___1dfVI\" src=\"https://yanbaooss.profeto.cn/assets/imgs/company_logos/002275.png\"/><div class=\"basic___2722h\"><div class=\"name___3jt4_\">桂林三金</div><div class=\"code___1acmC\">002275</div></div></div><div class=\"companyCard___CgdKO\"><img class=\"large___1dfVI\" src=\"https://yanbaooss.profeto.cn/assets/imgs/company_logos/600993.png\"/><div class=\"basic___2722h\"><div class=\"name___3jt4_\">马应龙</div><div class=\"code___1acmC\">600993</div></div></div><div class=\"companyCard___CgdKO\"><img class=\"large___1dfVI\" src=\"https://yanbaooss.profeto.cn/assets/imgs/company_logos/600566.png\"/><div class=\"basic___2722h\"><div class=\"name___3jt4_\">济川药业</div><div class=\"code___1acmC\">600566</div></div></div><div class=\"companyCard___CgdKO\"><img class=\"large___1dfVI\" src=\"https://yanbaooss.profeto.cn/assets/imgs/company_logos/603198.png\"/><div class=\"basic___2722h\"><div class=\"name___3jt4_\">迎驾贡酒</div><div class=\"code___1acmC\">603198</div></div></div><div class=\"companyCard___CgdKO\"><img class=\"large___1dfVI\" src=\"https://yanbaooss.profeto.cn/assets/imgs/company_logos/603355.png\"/><div class=\"basic___2722h\"><div class=\"name___3jt4_\">莱克电气</div><div class=\"code___1acmC\">603355</div></div></div><div class=\"companyCard___CgdKO\"><img class=\"large___1dfVI\" src=\"https://yanbaooss.profeto.cn/assets/imgs/company_logos/002597.png\"/><div class=\"basic___2722h\"><div class=\"name___3jt4_\">金禾实业</div><div class=\"code___1acmC\">002597</div></div></div><div class=\"companyCard___CgdKO\"><img class=\"large___1dfVI\" src=\"https://yanbaooss.profeto.cn/assets/imgs/company_logos/603328.png\"/><div class=\"basic___2722h\"><div class=\"name___3jt4_\">依顿电子</div><div class=\"code___1acmC\">603328</div></div></div><div class=\"companyCard___CgdKO\"><img class=\"large___1dfVI\" src=\"https://yanbaooss.profeto.cn/assets/imgs/company_logos/002299.png\"/><div class=\"basic___2722h\"><div class=\"name___3jt4_\">圣农发展</div><div class=\"code___1acmC\">002299</div></div></div><div class=\"companyCard___CgdKO\"><img class=\"large___1dfVI\" src=\"https://yanbaooss.profeto.cn/assets/imgs/company_logos/002643.png\"/><div class=\"basic___2722h\"><div class=\"name___3jt4_\">万润股份</div><div class=\"code___1acmC\">002643</div></div></div><div class=\"companyCard___CgdKO\"><img class=\"large___1dfVI\" src=\"https://yanbaooss.profeto.cn/assets/imgs/company_logos/300303.png\"/><div class=\"basic___2722h\"><div class=\"name___3jt4_\">聚飞光电</div><div class=\"code___1acmC\">300303</div></div></div><div class=\"companyCard___CgdKO\"><img class=\"large___1dfVI\" src=\"https://yanbaooss.profeto.cn/assets/imgs/company_logos/000848.png\"/><div class=\"basic___2722h\"><div class=\"name___3jt4_\">承德露露</div><div class=\"code___1acmC\">000848</div></div></div><div class=\"companyCard___CgdKO\"><img class=\"large___1dfVI\" src=\"https://yanbaooss.profeto.cn/assets/imgs/company_logos/603279.png\"/><div class=\"basic___2722h\"><div class=\"name___3jt4_\">景津环保</div><div class=\"code___1acmC\">603279</div></div></div><div class=\"companyCard___CgdKO\"><img class=\"large___1dfVI\" src=\"https://yanbaooss.profeto.cn/assets/imgs/company_logos/603686.png\"/><div class=\"basic___2722h\"><div class=\"name___3jt4_\">龙马环卫</div><div class=\"code___1acmC\">603686</div></div></div><div class=\"companyCard___CgdKO\"><img class=\"large___1dfVI\" src=\"https://yanbaooss.profeto.cn/assets/imgs/company_logos/603218.png\"/><div class=\"basic___2722h\"><div class=\"name___3jt4_\">日月股份</div><div class=\"code___1acmC\">603218</div></div></div><div class=\"companyCard___CgdKO\"><img class=\"large___1dfVI\" src=\"https://yanbaooss.profeto.cn/assets/imgs/company_logos/002056.png\"/><div class=\"basic___2722h\"><div class=\"name___3jt4_\">横店东磁</div><div class=\"code___1acmC\">002056</div></div></div><div class=\"companyCard___CgdKO\"><div class=\"large___1dfVI\">祥</div><div class=\"basic___2722h\"><div class=\"name___3jt4_\">祥鑫科技</div><div class=\"code___1acmC\">002965</div></div></div><div class=\"companyCard___CgdKO\"><img class=\"large___1dfVI\" src=\"https://yanbaooss.profeto.cn/assets/imgs/company_logos/603589.png\"/><div class=\"basic___2722h\"><div class=\"name___3jt4_\">口子窖</div><div class=\"code___1acmC\">603589</div></div></div><div class=\"companyCard___CgdKO\"><div class=\"large___1dfVI\">力</div><div class=\"basic___2722h\"><div class=\"name___3jt4_\">力合科技</div><div class=\"code___1acmC\">300800</div></div></div><div class=\"companyCard___CgdKO\"><img class=\"large___1dfVI\" src=\"https://yanbaooss.profeto.cn/assets/imgs/company_logos/000915.png\"/><div class=\"basic___2722h\"><div class=\"name___3jt4_\">山大华特</div><div class=\"code___1acmC\">000915</div></div></div><div class=\"companyCard___CgdKO\"><img class=\"large___1dfVI\" src=\"https://yanbaooss.profeto.cn/assets/imgs/company_logos/603678.png\"/><div class=\"basic___2722h\"><div class=\"name___3jt4_\">火炬电子</div><div class=\"code___1acmC\">603678</div></div></div><div class=\"companyCard___CgdKO\"><img class=\"large___1dfVI\" src=\"https://yanbaooss.profeto.cn/assets/imgs/company_logos/002117.png\"/><div class=\"basic___2722h\"><div class=\"name___3jt4_\">东港股份</div><div class=\"code___1acmC\">002117</div></div></div><div class=\"companyCard___CgdKO\"><img class=\"large___1dfVI\" src=\"https://yanbaooss.profeto.cn/assets/imgs/company_logos/600085.png\"/><div class=\"basic___2722h\"><div class=\"name___3jt4_\">同仁堂</div><div class=\"code___1acmC\">600085</div></div></div><div class=\"companyCard___CgdKO\"><div class=\"large___1dfVI\">智</div><div class=\"basic___2722h\"><div class=\"name___3jt4_\">智莱科技</div><div class=\"code___1acmC\">300771</div></div></div><div class=\"companyCard___CgdKO\"><img class=\"large___1dfVI\" src=\"https://yanbaooss.profeto.cn/assets/imgs/company_logos/300396.png\"/><div class=\"basic___2722h\"><div class=\"name___3jt4_\">迪瑞医疗</div><div class=\"code___1acmC\">300396</div></div></div><div class=\"companyCard___CgdKO\"><img class=\"large___1dfVI\" src=\"https://yanbaooss.profeto.cn/assets/imgs/company_logos/002304.png\"/><div class=\"basic___2722h\"><div class=\"name___3jt4_\">洋河股份</div><div class=\"code___1acmC\">002304</div></div></div><div class=\"companyCard___CgdKO\"><div class=\"large___1dfVI\">新</div><div class=\"basic___2722h\"><div class=\"name___3jt4_\">新诺威</div><div class=\"code___1acmC\">300765</div></div></div><div class=\"companyCard___CgdKO\"><img class=\"large___1dfVI\" src=\"https://yanbaooss.profeto.cn/assets/imgs/company_logos/600850.png\"/><div class=\"basic___2722h\"><div class=\"name___3jt4_\">华东电脑</div><div class=\"code___1acmC\">600850</div></div></div><div class=\"companyCard___CgdKO\"><img class=\"large___1dfVI\" src=\"https://yanbaooss.profeto.cn/assets/imgs/company_logos/600055.png\"/><div class=\"basic___2722h\"><div class=\"name___3jt4_\">万东医疗</div><div class=\"code___1acmC\">600055</div></div></div><div class=\"companyCard___CgdKO\"><img class=\"large___1dfVI\" src=\"https://yanbaooss.profeto.cn/assets/imgs/company_logos/002262.png\"/><div class=\"basic___2722h\"><div class=\"name___3jt4_\">恩华药业</div><div class=\"code___1acmC\">002262</div></div></div><div class=\"companyCard___CgdKO\"><img class=\"large___1dfVI\" src=\"https://yanbaooss.profeto.cn/assets/imgs/company_logos/300114.png\"/><div class=\"basic___2722h\"><div class=\"name___3jt4_\">中航电测</div><div class=\"code___1acmC\">300114</div></div></div><div class=\"companyCard___CgdKO\"><div class=\"large___1dfVI\">明</div><div class=\"basic___2722h\"><div class=\"name___3jt4_\">明阳电路</div><div class=\"code___1acmC\">300739</div></div></div><div class=\"companyCard___CgdKO\"><img class=\"large___1dfVI\" src=\"https://yanbaooss.profeto.cn/assets/imgs/company_logos/603267.png\"/><div class=\"basic___2722h\"><div class=\"name___3jt4_\">鸿远电子</div><div class=\"code___1acmC\">603267</div></div></div><div class=\"companyCard___CgdKO\"><img class=\"large___1dfVI\" src=\"https://yanbaooss.profeto.cn/assets/imgs/company_logos/603258.png\"/><div class=\"basic___2722h\"><div class=\"name___3jt4_\">电魂网络</div><div class=\"code___1acmC\">603258</div></div></div><div class=\"companyCard___CgdKO\"><div class=\"large___1dfVI\">金</div><div class=\"basic___2722h\"><div class=\"name___3jt4_\">金时科技</div><div class=\"code___1acmC\">002951</div></div></div><div class=\"companyCard___CgdKO\"><div class=\"large___1dfVI\">崇</div><div class=\"basic___2722h\"><div class=\"name___3jt4_\">崇达技术</div><div class=\"code___1acmC\">002815</div></div></div><div class=\"companyCard___CgdKO\"><img class=\"large___1dfVI\" src=\"https://yanbaooss.profeto.cn/assets/imgs/company_logos/002508.png\"/><div class=\"basic___2722h\"><div class=\"name___3jt4_\">老板电器</div><div class=\"code___1acmC\">002508</div></div></div><div class=\"companyCard___CgdKO\"><img class=\"large___1dfVI\" src=\"https://yanbaooss.profeto.cn/assets/imgs/company_logos/603096.png\"/><div class=\"basic___2722h\"><div class=\"name___3jt4_\">新经典</div><div class=\"code___1acmC\">603096</div></div></div><div class=\"companyCard___CgdKO\"><img class=\"large___1dfVI\" src=\"https://yanbaooss.profeto.cn/assets/imgs/company_logos/000799.png\"/><div class=\"basic___2722h\"><div class=\"name___3jt4_\">酒鬼酒</div><div class=\"code___1acmC\">000799</div></div></div><div class=\"companyCard___CgdKO\"><img class=\"large___1dfVI\" src=\"https://yanbaooss.profeto.cn/assets/imgs/company_logos/603387.png\"/><div class=\"basic___2722h\"><div class=\"name___3jt4_\">基蛋生物</div><div class=\"code___1acmC\">603387</div></div></div><div class=\"companyCard___CgdKO\"><img class=\"large___1dfVI\" src=\"https://yanbaooss.profeto.cn/assets/imgs/company_logos/603596.png\"/><div class=\"basic___2722h\"><div class=\"name___3jt4_\">伯特利</div><div class=\"code___1acmC\">603596</div></div></div><div class=\"companyCard___CgdKO\"><div class=\"large___1dfVI\">恒</div><div class=\"basic___2722h\"><div class=\"name___3jt4_\">恒铭达</div><div class=\"code___1acmC\">002947</div></div></div><div class=\"companyCard___CgdKO\"><div class=\"large___1dfVI\">麦</div><div class=\"basic___2722h\"><div class=\"name___3jt4_\">麦格米特</div><div class=\"code___1acmC\">002851</div></div></div></div></div></div></div></div></div><script src=\"/moyu100/static/umi.78fb0f1a.js\"></script></body></html>"
      ]
     },
     "execution_count": 133,
     "metadata": {},
     "output_type": "execute_result"
    }
   ],
   "source": [
    "soup"
   ]
  },
  {
   "cell_type": "code",
   "execution_count": 134,
   "metadata": {},
   "outputs": [
    {
     "data": {
      "text/plain": [
       "<div _echarts_instance_=\"ec_1599532096129\" class=\"echarts-for-react\" size-sensor-id=\"1\" style=\"height: 250px; width: 100%; -webkit-tap-highlight-color: transparent; -webkit-user-select: none; position: relative;\"><div style=\"position: relative; width: 624px; height: 250px; padding: 0px; margin: 0px; border-width: 0px; cursor: pointer;\"><canvas data-zr-dom-id=\"zr_0\" height=\"250\" style=\"position: absolute; left: 0px; top: 0px; width: 624px; height: 250px; -webkit-user-select: none; -webkit-tap-highlight-color: rgba(0, 0, 0, 0); padding: 0px; margin: 0px; border-width: 0px;\" width=\"624\"></canvas><canvas data-zr-dom-id=\"zr_10000\" height=\"250\" style=\"position: absolute; left: 0px; top: 0px; width: 624px; height: 250px; -webkit-user-select: none; -webkit-tap-highlight-color: rgba(0, 0, 0, 0); padding: 0px; margin: 0px; border-width: 0px;\" width=\"624\"></canvas></div><object class=\"size-sensor-object\" data=\"about:blank\" style=\"display: block; position: absolute; top: 0px; left: 0px; height: 100%; width: 100%; overflow: hidden; pointer-events: none; z-index: -1; opacity: 0;\" tabindex=\"-1\" type=\"text/html\"></object><div style='position: absolute; display: block; border-style: solid; white-space: nowrap; z-index: 9999999; transition: left 0.4s cubic-bezier(0.23, 1, 0.32, 1), top 0.4s cubic-bezier(0.23, 1, 0.32, 1); background-color: rgba(50, 50, 50, 0.701961); border-width: 0px; border-color: rgb(51, 51, 51); border-radius: 4px; color: rgb(255, 255, 255); font-style: normal; font-variant: normal; font-weight: normal; font-stretch: normal; font-size: 14px; font-family: \"Microsoft YaHei\"; line-height: 21px; padding: 5px; left: 409px; top: 3px; pointer-events: none;'>\n",
       "<div>\n",
       "<div>麦格米特(002851)</div>\n",
       "<div>摸鱼得分：86</div>\n",
       "<div>市值：153.24 亿</div>\n",
       "<div>PB：7.7</div>\n",
       "<div>ROE：17.77%</div>\n",
       "</div>\n",
       "</div></div>"
      ]
     },
     "execution_count": 134,
     "metadata": {},
     "output_type": "execute_result"
    }
   ],
   "source": [
    "soup.find_all('div', id='card')[0].div # bs4.element.Tag"
   ]
  },
  {
   "cell_type": "code",
   "execution_count": 135,
   "metadata": {},
   "outputs": [
    {
     "data": {
      "text/plain": [
       "{'class': ['echarts-for-react'],\n",
       " '_echarts_instance_': 'ec_1599532096129',\n",
       " 'size-sensor-id': '1',\n",
       " 'style': 'height: 250px; width: 100%; -webkit-tap-highlight-color: transparent; -webkit-user-select: none; position: relative;'}"
      ]
     },
     "execution_count": 135,
     "metadata": {},
     "output_type": "execute_result"
    }
   ],
   "source": [
    "soup.find_all('div', id='card')[0].div.attrs"
   ]
  },
  {
   "cell_type": "code",
   "execution_count": 136,
   "metadata": {},
   "outputs": [
    {
     "data": {
      "text/plain": [
       "['echarts-for-react']"
      ]
     },
     "execution_count": 136,
     "metadata": {},
     "output_type": "execute_result"
    }
   ],
   "source": [
    "soup.find_all('div', id='card')[0].div['class']"
   ]
  },
  {
   "cell_type": "code",
   "execution_count": 137,
   "metadata": {},
   "outputs": [
    {
     "data": {
      "text/plain": [
       "'div'"
      ]
     },
     "execution_count": 137,
     "metadata": {},
     "output_type": "execute_result"
    }
   ],
   "source": [
    "soup.find_all('div', id='card')[0].div.name"
   ]
  },
  {
   "cell_type": "code",
   "execution_count": 138,
   "metadata": {},
   "outputs": [],
   "source": [
    "soup_div = soup.find_all('div', id='card')[0].div"
   ]
  },
  {
   "cell_type": "code",
   "execution_count": 139,
   "metadata": {},
   "outputs": [
    {
     "data": {
      "text/plain": [
       "{'class': ['echarts-for-react'],\n",
       " '_echarts_instance_': 'ec_1599532096129',\n",
       " 'size-sensor-id': '1',\n",
       " 'style': 'height: 250px; width: 100%; -webkit-tap-highlight-color: transparent; -webkit-user-select: none; position: relative;'}"
      ]
     },
     "execution_count": 139,
     "metadata": {},
     "output_type": "execute_result"
    }
   ],
   "source": [
    "soup_div.attrs # "
   ]
  },
  {
   "cell_type": "code",
   "execution_count": 140,
   "metadata": {},
   "outputs": [
    {
     "data": {
      "text/plain": [
       "[<div style=\"position: relative; width: 624px; height: 250px; padding: 0px; margin: 0px; border-width: 0px; cursor: pointer;\"><canvas data-zr-dom-id=\"zr_0\" height=\"250\" style=\"position: absolute; left: 0px; top: 0px; width: 624px; height: 250px; -webkit-user-select: none; -webkit-tap-highlight-color: rgba(0, 0, 0, 0); padding: 0px; margin: 0px; border-width: 0px;\" width=\"624\"></canvas><canvas data-zr-dom-id=\"zr_10000\" height=\"250\" style=\"position: absolute; left: 0px; top: 0px; width: 624px; height: 250px; -webkit-user-select: none; -webkit-tap-highlight-color: rgba(0, 0, 0, 0); padding: 0px; margin: 0px; border-width: 0px;\" width=\"624\"></canvas></div>,\n",
       " <object class=\"size-sensor-object\" data=\"about:blank\" style=\"display: block; position: absolute; top: 0px; left: 0px; height: 100%; width: 100%; overflow: hidden; pointer-events: none; z-index: -1; opacity: 0;\" tabindex=\"-1\" type=\"text/html\"></object>,\n",
       " <div style='position: absolute; display: block; border-style: solid; white-space: nowrap; z-index: 9999999; transition: left 0.4s cubic-bezier(0.23, 1, 0.32, 1), top 0.4s cubic-bezier(0.23, 1, 0.32, 1); background-color: rgba(50, 50, 50, 0.701961); border-width: 0px; border-color: rgb(51, 51, 51); border-radius: 4px; color: rgb(255, 255, 255); font-style: normal; font-variant: normal; font-weight: normal; font-stretch: normal; font-size: 14px; font-family: \"Microsoft YaHei\"; line-height: 21px; padding: 5px; left: 409px; top: 3px; pointer-events: none;'>\n",
       " <div>\n",
       " <div>麦格米特(002851)</div>\n",
       " <div>摸鱼得分：86</div>\n",
       " <div>市值：153.24 亿</div>\n",
       " <div>PB：7.7</div>\n",
       " <div>ROE：17.77%</div>\n",
       " </div>\n",
       " </div>]"
      ]
     },
     "execution_count": 140,
     "metadata": {},
     "output_type": "execute_result"
    }
   ],
   "source": [
    "soup_div.contents"
   ]
  },
  {
   "cell_type": "code",
   "execution_count": 141,
   "metadata": {},
   "outputs": [
    {
     "data": {
      "text/plain": [
       "<list_iterator at 0x21775a64a90>"
      ]
     },
     "execution_count": 141,
     "metadata": {},
     "output_type": "execute_result"
    }
   ],
   "source": [
    "soup_div.children"
   ]
  },
  {
   "cell_type": "code",
   "execution_count": 145,
   "metadata": {},
   "outputs": [
    {
     "data": {
      "text/plain": [
       "<div style='position: absolute; display: block; border-style: solid; white-space: nowrap; z-index: 9999999; transition: left 0.4s cubic-bezier(0.23, 1, 0.32, 1), top 0.4s cubic-bezier(0.23, 1, 0.32, 1); background-color: rgba(50, 50, 50, 0.701961); border-width: 0px; border-color: rgb(51, 51, 51); border-radius: 4px; color: rgb(255, 255, 255); font-style: normal; font-variant: normal; font-weight: normal; font-stretch: normal; font-size: 14px; font-family: \"Microsoft YaHei\"; line-height: 21px; padding: 5px; left: 409px; top: 3px; pointer-events: none;'>\n",
       "<div>\n",
       "<div>麦格米特(002851)</div>\n",
       "<div>摸鱼得分：86</div>\n",
       "<div>市值：153.24 亿</div>\n",
       "<div>PB：7.7</div>\n",
       "<div>ROE：17.77%</div>\n",
       "</div>\n",
       "</div>"
      ]
     },
     "execution_count": 145,
     "metadata": {},
     "output_type": "execute_result"
    }
   ],
   "source": [
    "soup_div.div.next_sibling.next_sibling"
   ]
  },
  {
   "cell_type": "code",
   "execution_count": 146,
   "metadata": {},
   "outputs": [
    {
     "name": "stdout",
     "output_type": "stream",
     "text": [
      "<object class=\"size-sensor-object\" data=\"about:blank\" style=\"display: block; position: absolute; top: 0px; left: 0px; height: 100%; width: 100%; overflow: hidden; pointer-events: none; z-index: -1; opacity: 0;\" tabindex=\"-1\" type=\"text/html\"></object>\n",
      "<div style='position: absolute; display: block; border-style: solid; white-space: nowrap; z-index: 9999999; transition: left 0.4s cubic-bezier(0.23, 1, 0.32, 1), top 0.4s cubic-bezier(0.23, 1, 0.32, 1); background-color: rgba(50, 50, 50, 0.701961); border-width: 0px; border-color: rgb(51, 51, 51); border-radius: 4px; color: rgb(255, 255, 255); font-style: normal; font-variant: normal; font-weight: normal; font-stretch: normal; font-size: 14px; font-family: \"Microsoft YaHei\"; line-height: 21px; padding: 5px; left: 409px; top: 3px; pointer-events: none;'>\n",
      "<div>\n",
      "<div>麦格米特(002851)</div>\n",
      "<div>摸鱼得分：86</div>\n",
      "<div>市值：153.24 亿</div>\n",
      "<div>PB：7.7</div>\n",
      "<div>ROE：17.77%</div>\n",
      "</div>\n",
      "</div>\n"
     ]
    }
   ],
   "source": [
    "for sibling in soup_div.div.next_siblings:\n",
    "    print(sibling)"
   ]
  },
  {
   "cell_type": "code",
   "execution_count": 147,
   "metadata": {},
   "outputs": [],
   "source": [
    "siblings = [sibling for sibling in soup_div.div.next_siblings]"
   ]
  },
  {
   "cell_type": "code",
   "execution_count": 150,
   "metadata": {},
   "outputs": [
    {
     "data": {
      "text/plain": [
       "<div>\n",
       "<div>麦格米特(002851)</div>\n",
       "<div>摸鱼得分：86</div>\n",
       "<div>市值：153.24 亿</div>\n",
       "<div>PB：7.7</div>\n",
       "<div>ROE：17.77%</div>\n",
       "</div>"
      ]
     },
     "execution_count": 150,
     "metadata": {},
     "output_type": "execute_result"
    }
   ],
   "source": [
    "siblings[1].div"
   ]
  },
  {
   "cell_type": "code",
   "execution_count": 152,
   "metadata": {},
   "outputs": [
    {
     "name": "stdout",
     "output_type": "stream",
     "text": [
      "\n"
     ]
    }
   ],
   "source": [
    "for s in siblings[1].div.next_siblings:\n",
    "    print(s.strip())"
   ]
  },
  {
   "cell_type": "code",
   "execution_count": 154,
   "metadata": {},
   "outputs": [
    {
     "data": {
      "text/plain": [
       "<div>\n",
       "<div>麦格米特(002851)</div>\n",
       "<div>摸鱼得分：86</div>\n",
       "<div>市值：153.24 亿</div>\n",
       "<div>PB：7.7</div>\n",
       "<div>ROE：17.77%</div>\n",
       "</div>"
      ]
     },
     "execution_count": 154,
     "metadata": {},
     "output_type": "execute_result"
    }
   ],
   "source": [
    "siblings[1].div"
   ]
  },
  {
   "cell_type": "code",
   "execution_count": 156,
   "metadata": {},
   "outputs": [
    {
     "data": {
      "text/plain": [
       "bs4.element.Tag"
      ]
     },
     "execution_count": 156,
     "metadata": {},
     "output_type": "execute_result"
    }
   ],
   "source": [
    "type(siblings[1].div)"
   ]
  },
  {
   "cell_type": "code",
   "execution_count": 157,
   "metadata": {},
   "outputs": [
    {
     "data": {
      "text/plain": [
       "bs4.element.Tag"
      ]
     },
     "execution_count": 157,
     "metadata": {},
     "output_type": "execute_result"
    }
   ],
   "source": [
    "type(siblings[1])"
   ]
  },
  {
   "cell_type": "code",
   "execution_count": 158,
   "metadata": {},
   "outputs": [
    {
     "data": {
      "text/plain": [
       "<div>\n",
       "<div>麦格米特(002851)</div>\n",
       "<div>摸鱼得分：86</div>\n",
       "<div>市值：153.24 亿</div>\n",
       "<div>PB：7.7</div>\n",
       "<div>ROE：17.77%</div>\n",
       "</div>"
      ]
     },
     "execution_count": 158,
     "metadata": {},
     "output_type": "execute_result"
    }
   ],
   "source": [
    "siblings[1].div"
   ]
  },
  {
   "cell_type": "code",
   "execution_count": 23,
   "metadata": {},
   "outputs": [
    {
     "data": {
      "text/plain": [
       "['\\n']"
      ]
     },
     "execution_count": 23,
     "metadata": {},
     "output_type": "execute_result"
    }
   ],
   "source": [
    "[s for s in siblings[3].next_siblings]"
   ]
  },
  {
   "cell_type": "code",
   "execution_count": 24,
   "metadata": {},
   "outputs": [],
   "source": [
    "cc = [c for c in siblings[3].children]"
   ]
  },
  {
   "cell_type": "code",
   "execution_count": 25,
   "metadata": {},
   "outputs": [],
   "source": [
    "xx = [x for x in siblings[3].div.children]"
   ]
  },
  {
   "cell_type": "code",
   "execution_count": 26,
   "metadata": {},
   "outputs": [
    {
     "data": {
      "text/plain": [
       "'\\n'"
      ]
     },
     "execution_count": 26,
     "metadata": {},
     "output_type": "execute_result"
    }
   ],
   "source": [
    "cc[2]"
   ]
  },
  {
   "cell_type": "code",
   "execution_count": 27,
   "metadata": {},
   "outputs": [
    {
     "data": {
      "text/plain": [
       "<div>\n",
       "           摸鱼得分：84\n",
       "          </div>"
      ]
     },
     "execution_count": 27,
     "metadata": {},
     "output_type": "execute_result"
    }
   ],
   "source": [
    "xx[3]"
   ]
  },
  {
   "cell_type": "code",
   "execution_count": 28,
   "metadata": {},
   "outputs": [],
   "source": [
    "# 小结"
   ]
  },
  {
   "cell_type": "code",
   "execution_count": 171,
   "metadata": {},
   "outputs": [],
   "source": [
    "# Step 1:\n",
    "soup = BeautifulSoup(open(r'moyu100.html', encoding='utf-8'))"
   ]
  },
  {
   "cell_type": "code",
   "execution_count": 30,
   "metadata": {},
   "outputs": [
    {
     "data": {
      "text/html": [
       "<div>\n",
       "<style scoped>\n",
       "    .dataframe tbody tr th:only-of-type {\n",
       "        vertical-align: middle;\n",
       "    }\n",
       "\n",
       "    .dataframe tbody tr th {\n",
       "        vertical-align: top;\n",
       "    }\n",
       "\n",
       "    .dataframe thead th {\n",
       "        text-align: right;\n",
       "    }\n",
       "</style>\n",
       "<table border=\"1\" class=\"dataframe\">\n",
       "  <thead>\n",
       "    <tr style=\"text-align: right;\">\n",
       "      <th></th>\n",
       "      <th>code</th>\n",
       "      <th>name</th>\n",
       "    </tr>\n",
       "  </thead>\n",
       "  <tbody>\n",
       "    <tr>\n",
       "      <th>0</th>\n",
       "      <td>000552</td>\n",
       "      <td>靖远煤电</td>\n",
       "    </tr>\n",
       "    <tr>\n",
       "      <th>1</th>\n",
       "      <td>601000</td>\n",
       "      <td>唐山港</td>\n",
       "    </tr>\n",
       "    <tr>\n",
       "      <th>2</th>\n",
       "      <td>600757</td>\n",
       "      <td>长江传媒</td>\n",
       "    </tr>\n",
       "    <tr>\n",
       "      <th>3</th>\n",
       "      <td>601088</td>\n",
       "      <td>中国神华</td>\n",
       "    </tr>\n",
       "    <tr>\n",
       "      <th>4</th>\n",
       "      <td>601006</td>\n",
       "      <td>大秦铁路</td>\n",
       "    </tr>\n",
       "    <tr>\n",
       "      <th>...</th>\n",
       "      <td>...</td>\n",
       "      <td>...</td>\n",
       "    </tr>\n",
       "    <tr>\n",
       "      <th>95</th>\n",
       "      <td>000799</td>\n",
       "      <td>酒鬼酒</td>\n",
       "    </tr>\n",
       "    <tr>\n",
       "      <th>96</th>\n",
       "      <td>603387</td>\n",
       "      <td>基蛋生物</td>\n",
       "    </tr>\n",
       "    <tr>\n",
       "      <th>97</th>\n",
       "      <td>603596</td>\n",
       "      <td>伯特利</td>\n",
       "    </tr>\n",
       "    <tr>\n",
       "      <th>98</th>\n",
       "      <td>002947</td>\n",
       "      <td>恒铭达</td>\n",
       "    </tr>\n",
       "    <tr>\n",
       "      <th>99</th>\n",
       "      <td>002851</td>\n",
       "      <td>麦格米特</td>\n",
       "    </tr>\n",
       "  </tbody>\n",
       "</table>\n",
       "<p>100 rows × 2 columns</p>\n",
       "</div>"
      ],
      "text/plain": [
       "      code  name\n",
       "0   000552  靖远煤电\n",
       "1   601000   唐山港\n",
       "2   600757  长江传媒\n",
       "3   601088  中国神华\n",
       "4   601006  大秦铁路\n",
       "..     ...   ...\n",
       "95  000799   酒鬼酒\n",
       "96  603387  基蛋生物\n",
       "97  603596   伯特利\n",
       "98  002947   恒铭达\n",
       "99  002851  麦格米特\n",
       "\n",
       "[100 rows x 2 columns]"
      ]
     },
     "execution_count": 30,
     "metadata": {},
     "output_type": "execute_result"
    }
   ],
   "source": [
    "# Step 2:\n",
    "names = [name.string.strip() for name in soup.find_all('div', 'name___3jt4_')] # <div class=\"name___3jt4_\">\n",
    "\n",
    "codes = [code.string.strip() for code in soup.find_all('div', 'code___1acmC')] # <div class=\"code___1acmC\">\n",
    "\n",
    "df = pd.DataFrame({'code':codes, 'name':names})\n",
    "df"
   ]
  },
  {
   "cell_type": "code",
   "execution_count": 159,
   "metadata": {},
   "outputs": [],
   "source": [
    "# Step 3：定位到  <div id=\"card\">\n",
    "soup_card = soup.find_all('div', id='card')[0].div"
   ]
  },
  {
   "cell_type": "code",
   "execution_count": 231,
   "metadata": {},
   "outputs": [
    {
     "data": {
      "text/plain": [
       "[<div>麦格米特(002851)</div>,\n",
       " <div>摸鱼得分：86</div>,\n",
       " <div>市值：153.24 亿</div>,\n",
       " <div>PB：7.7</div>,\n",
       " <div>ROE：17.77%</div>]"
      ]
     },
     "execution_count": 231,
     "metadata": {},
     "output_type": "execute_result"
    }
   ],
   "source": [
    "card = soup_card.find_all('div', string=re.compile('(\\d+)'))\n",
    "card"
   ]
  },
  {
   "cell_type": "code",
   "execution_count": 232,
   "metadata": {},
   "outputs": [
    {
     "data": {
      "text/plain": [
       "5"
      ]
     },
     "execution_count": 232,
     "metadata": {},
     "output_type": "execute_result"
    }
   ],
   "source": [
    "len(card)"
   ]
  },
  {
   "cell_type": "code",
   "execution_count": 241,
   "metadata": {},
   "outputs": [],
   "source": [
    "card_string = [c.string for c in card]"
   ]
  },
  {
   "cell_type": "code",
   "execution_count": 242,
   "metadata": {},
   "outputs": [
    {
     "data": {
      "text/plain": [
       "['麦格米特(002851)', '摸鱼得分：86', '市值：153.24 亿', 'PB：7.7', 'ROE：17.77%']"
      ]
     },
     "execution_count": 242,
     "metadata": {},
     "output_type": "execute_result"
    }
   ],
   "source": [
    "card_string"
   ]
  },
  {
   "cell_type": "code",
   "execution_count": 236,
   "metadata": {},
   "outputs": [
    {
     "data": {
      "text/plain": [
       "'麦格米特(002851)'"
      ]
     },
     "execution_count": 236,
     "metadata": {},
     "output_type": "execute_result"
    }
   ],
   "source": [
    "card[0].string"
   ]
  },
  {
   "cell_type": "code",
   "execution_count": 243,
   "metadata": {},
   "outputs": [
    {
     "data": {
      "text/plain": [
       "'002851'"
      ]
     },
     "execution_count": 243,
     "metadata": {},
     "output_type": "execute_result"
    }
   ],
   "source": [
    "re.sub(r'\\D', \"\", card_string[0]) # re.sub(pattern, repl, string, count=0, flags=0) ## 删除非数字(-)的字符串 "
   ]
  },
  {
   "cell_type": "code",
   "execution_count": 244,
   "metadata": {},
   "outputs": [
    {
     "data": {
      "text/plain": [
       "'麦格米特'"
      ]
     },
     "execution_count": 244,
     "metadata": {},
     "output_type": "execute_result"
    }
   ],
   "source": [
    "re.search('\\w+', card_string[0]).group()"
   ]
  },
  {
   "cell_type": "code",
   "execution_count": 247,
   "metadata": {},
   "outputs": [
    {
     "data": {
      "text/plain": [
       "['摸鱼得分', '86']"
      ]
     },
     "execution_count": 247,
     "metadata": {},
     "output_type": "execute_result"
    }
   ],
   "source": [
    "card_string[1].split('：')"
   ]
  },
  {
   "cell_type": "code",
   "execution_count": 249,
   "metadata": {},
   "outputs": [],
   "source": [
    "card_PAPR = list(map(lambda x:{x.split(\"：\")[0]:x.split(\"：\")[1]}, card_string[1:])) # map(a, b) ## a 是函数，用来处理 b 参数 ## b 是可迭代对象"
   ]
  },
  {
   "cell_type": "code",
   "execution_count": 252,
   "metadata": {},
   "outputs": [
    {
     "data": {
      "text/plain": [
       "'86'"
      ]
     },
     "execution_count": 252,
     "metadata": {},
     "output_type": "execute_result"
    }
   ],
   "source": [
    "card_PAPR[0].get('摸鱼得分')"
   ]
  },
  {
   "cell_type": "code",
   "execution_count": 240,
   "metadata": {},
   "outputs": [
    {
     "data": {
      "text/plain": [
       "'市值：153.24 亿'"
      ]
     },
     "execution_count": 240,
     "metadata": {},
     "output_type": "execute_result"
    }
   ],
   "source": [
    "card[2].string"
   ]
  },
  {
   "cell_type": "code",
   "execution_count": 219,
   "metadata": {},
   "outputs": [
    {
     "data": {
      "text/plain": [
       "['摸鱼得分：86', '市值：153.24 亿', 'PB：7.7', 'ROE：17.77%']"
      ]
     },
     "execution_count": 219,
     "metadata": {},
     "output_type": "execute_result"
    }
   ],
   "source": [
    "[soup_card.find_all('div', string=re.compile('摸鱼得分'))[0].string,\n",
    "soup_card.find_all('div', string=re.compile('市值'))[0].string,\n",
    "soup_card.find_all('div', string=re.compile('PB'))[0].string,\n",
    "soup_card.find_all('div', string=re.compile('ROE'))[0].string]\n",
    "\n"
   ]
  },
  {
   "cell_type": "code",
   "execution_count": 220,
   "metadata": {},
   "outputs": [],
   "source": [
    "card = [soup_card.find_all('div', string=re.compile('摸鱼得分'))[0].string,\n",
    "                soup_card.find_all('div', string=re.compile('市值'))[0].string,\n",
    "                soup_card.find_all('div', string=re.compile('PB'))[0].string,\n",
    "                soup_card.find_all('div', string=re.compile('ROE'))[0].string]"
   ]
  },
  {
   "cell_type": "code",
   "execution_count": 221,
   "metadata": {},
   "outputs": [
    {
     "data": {
      "text/plain": [
       "['摸鱼得分：86', '市值：153.24 亿', 'PB：7.7', 'ROE：17.77%']"
      ]
     },
     "execution_count": 221,
     "metadata": {},
     "output_type": "execute_result"
    }
   ],
   "source": [
    "card"
   ]
  },
  {
   "cell_type": "code",
   "execution_count": 162,
   "metadata": {},
   "outputs": [
    {
     "data": {
      "text/plain": [
       "[<div style=\"position: relative; width: 624px; height: 250px; padding: 0px; margin: 0px; border-width: 0px; cursor: pointer;\"><canvas data-zr-dom-id=\"zr_0\" height=\"250\" style=\"position: absolute; left: 0px; top: 0px; width: 624px; height: 250px; -webkit-user-select: none; -webkit-tap-highlight-color: rgba(0, 0, 0, 0); padding: 0px; margin: 0px; border-width: 0px;\" width=\"624\"></canvas><canvas data-zr-dom-id=\"zr_10000\" height=\"250\" style=\"position: absolute; left: 0px; top: 0px; width: 624px; height: 250px; -webkit-user-select: none; -webkit-tap-highlight-color: rgba(0, 0, 0, 0); padding: 0px; margin: 0px; border-width: 0px;\" width=\"624\"></canvas></div>,\n",
       " <object class=\"size-sensor-object\" data=\"about:blank\" style=\"display: block; position: absolute; top: 0px; left: 0px; height: 100%; width: 100%; overflow: hidden; pointer-events: none; z-index: -1; opacity: 0;\" tabindex=\"-1\" type=\"text/html\"></object>,\n",
       " <div style='position: absolute; display: block; border-style: solid; white-space: nowrap; z-index: 9999999; transition: left 0.4s cubic-bezier(0.23, 1, 0.32, 1), top 0.4s cubic-bezier(0.23, 1, 0.32, 1); background-color: rgba(50, 50, 50, 0.701961); border-width: 0px; border-color: rgb(51, 51, 51); border-radius: 4px; color: rgb(255, 255, 255); font-style: normal; font-variant: normal; font-weight: normal; font-stretch: normal; font-size: 14px; font-family: \"Microsoft YaHei\"; line-height: 21px; padding: 5px; left: 409px; top: 3px; pointer-events: none;'>\n",
       " <div>\n",
       " <div>麦格米特(002851)</div>\n",
       " <div>摸鱼得分：86</div>\n",
       " <div>市值：153.24 亿</div>\n",
       " <div>PB：7.7</div>\n",
       " <div>ROE：17.77%</div>\n",
       " </div>\n",
       " </div>]"
      ]
     },
     "execution_count": 162,
     "metadata": {},
     "output_type": "execute_result"
    }
   ],
   "source": [
    "children = [child for  child in soup_card.children]\n",
    "children"
   ]
  },
  {
   "cell_type": "code",
   "execution_count": 164,
   "metadata": {},
   "outputs": [
    {
     "data": {
      "text/plain": [
       "[<div style=\"position: relative; width: 624px; height: 250px; padding: 0px; margin: 0px; border-width: 0px; cursor: pointer;\"><canvas data-zr-dom-id=\"zr_0\" height=\"250\" style=\"position: absolute; left: 0px; top: 0px; width: 624px; height: 250px; -webkit-user-select: none; -webkit-tap-highlight-color: rgba(0, 0, 0, 0); padding: 0px; margin: 0px; border-width: 0px;\" width=\"624\"></canvas><canvas data-zr-dom-id=\"zr_10000\" height=\"250\" style=\"position: absolute; left: 0px; top: 0px; width: 624px; height: 250px; -webkit-user-select: none; -webkit-tap-highlight-color: rgba(0, 0, 0, 0); padding: 0px; margin: 0px; border-width: 0px;\" width=\"624\"></canvas></div>,\n",
       " <object class=\"size-sensor-object\" data=\"about:blank\" style=\"display: block; position: absolute; top: 0px; left: 0px; height: 100%; width: 100%; overflow: hidden; pointer-events: none; z-index: -1; opacity: 0;\" tabindex=\"-1\" type=\"text/html\"></object>,\n",
       " <div style='position: absolute; display: block; border-style: solid; white-space: nowrap; z-index: 9999999; transition: left 0.4s cubic-bezier(0.23, 1, 0.32, 1), top 0.4s cubic-bezier(0.23, 1, 0.32, 1); background-color: rgba(50, 50, 50, 0.701961); border-width: 0px; border-color: rgb(51, 51, 51); border-radius: 4px; color: rgb(255, 255, 255); font-style: normal; font-variant: normal; font-weight: normal; font-stretch: normal; font-size: 14px; font-family: \"Microsoft YaHei\"; line-height: 21px; padding: 5px; left: 409px; top: 3px; pointer-events: none;'>\n",
       " <div>\n",
       " <div>麦格米特(002851)</div>\n",
       " <div>摸鱼得分：86</div>\n",
       " <div>市值：153.24 亿</div>\n",
       " <div>PB：7.7</div>\n",
       " <div>ROE：17.77%</div>\n",
       " </div>\n",
       " </div>]"
      ]
     },
     "execution_count": 164,
     "metadata": {},
     "output_type": "execute_result"
    }
   ],
   "source": [
    "children"
   ]
  },
  {
   "cell_type": "code",
   "execution_count": 34,
   "metadata": {},
   "outputs": [
    {
     "data": {
      "text/plain": [
       "<div>\n",
       "<div>\n",
       "           迎驾贡酒(603198)\n",
       "          </div>\n",
       "<div>\n",
       "           摸鱼得分：84\n",
       "          </div>\n",
       "<div>\n",
       "           市值：188.32 亿\n",
       "          </div>\n",
       "<div>\n",
       "           PB：4.17\n",
       "          </div>\n",
       "<div>\n",
       "           ROE：18.11%\n",
       "          </div>\n",
       "</div>"
      ]
     },
     "execution_count": 34,
     "metadata": {},
     "output_type": "execute_result"
    }
   ],
   "source": [
    "child6.div"
   ]
  },
  {
   "cell_type": "code",
   "execution_count": 35,
   "metadata": {},
   "outputs": [
    {
     "data": {
      "text/plain": [
       "<div>\n",
       "<div>\n",
       "           迎驾贡酒(603198)\n",
       "          </div>\n",
       "<div>\n",
       "           摸鱼得分：84\n",
       "          </div>\n",
       "<div>\n",
       "           市值：188.32 亿\n",
       "          </div>\n",
       "<div>\n",
       "           PB：4.17\n",
       "          </div>\n",
       "<div>\n",
       "           ROE：18.11%\n",
       "          </div>\n",
       "</div>"
      ]
     },
     "execution_count": 35,
     "metadata": {},
     "output_type": "execute_result"
    }
   ],
   "source": [
    "# Step 4\n",
    "child6.div"
   ]
  },
  {
   "cell_type": "code",
   "execution_count": 36,
   "metadata": {},
   "outputs": [],
   "source": [
    "cc = [c.string.strip() for c in child6.div.children if c!='\\n'] # - string.strip() 去掉前后空格  - if c!='\\n' 列表排除 换行符"
   ]
  },
  {
   "cell_type": "code",
   "execution_count": 37,
   "metadata": {},
   "outputs": [
    {
     "data": {
      "text/plain": [
       "['迎驾贡酒(603198)', '摸鱼得分：84', '市值：188.32 亿', 'PB：4.17', 'ROE：18.11%']"
      ]
     },
     "execution_count": 37,
     "metadata": {},
     "output_type": "execute_result"
    }
   ],
   "source": [
    "cc"
   ]
  },
  {
   "cell_type": "code",
   "execution_count": 38,
   "metadata": {},
   "outputs": [
    {
     "data": {
      "text/plain": [
       "['摸鱼得分', '84']"
      ]
     },
     "execution_count": 38,
     "metadata": {},
     "output_type": "execute_result"
    }
   ],
   "source": [
    "cc[1].split(\"：\")"
   ]
  },
  {
   "cell_type": "code",
   "execution_count": 39,
   "metadata": {},
   "outputs": [
    {
     "data": {
      "text/plain": [
       "{'摸鱼得分': '84'}"
      ]
     },
     "execution_count": 39,
     "metadata": {},
     "output_type": "execute_result"
    }
   ],
   "source": [
    "{cc[1].split(\"：\")[0]:cc[1].split(\"：\")[1]}"
   ]
  },
  {
   "cell_type": "code",
   "execution_count": 40,
   "metadata": {},
   "outputs": [
    {
     "data": {
      "text/plain": [
       "[{'摸鱼得分': '84'}, {'市值': '188.32 亿'}, {'PB': '4.17'}, {'ROE': '18.11%'}]"
      ]
     },
     "execution_count": 40,
     "metadata": {},
     "output_type": "execute_result"
    }
   ],
   "source": [
    "list(map(lambda x:{x.split(\"：\")[0]:x.split(\"：\")[1]}, cc[1:])) # map(a, b) ## a 是函数，用来处理 b 参数 ## b 是可迭代对象"
   ]
  },
  {
   "cell_type": "code",
   "execution_count": 41,
   "metadata": {},
   "outputs": [],
   "source": [
    "# Step 5:\n"
   ]
  },
  {
   "cell_type": "code",
   "execution_count": 46,
   "metadata": {},
   "outputs": [
    {
     "data": {
      "text/plain": [
       "'摸鱼得分：84'"
      ]
     },
     "execution_count": 46,
     "metadata": {},
     "output_type": "execute_result"
    }
   ],
   "source": [
    "cc[1]"
   ]
  },
  {
   "cell_type": "code",
   "execution_count": 43,
   "metadata": {},
   "outputs": [
    {
     "data": {
      "text/plain": [
       "'603198'"
      ]
     },
     "execution_count": 43,
     "metadata": {},
     "output_type": "execute_result"
    }
   ],
   "source": [
    "re.sub(r'\\D', \"\", cc[0]) # re.sub(pattern, repl, string, count=0, flags=0) ## 删除非数字(-)的字符串 "
   ]
  },
  {
   "cell_type": "code",
   "execution_count": 58,
   "metadata": {},
   "outputs": [
    {
     "data": {
      "text/plain": [
       "'迎驾贡酒'"
      ]
     },
     "execution_count": 58,
     "metadata": {},
     "output_type": "execute_result"
    }
   ],
   "source": [
    "re.search('\\w+', cc[0]).group()"
   ]
  },
  {
   "cell_type": "code",
   "execution_count": 44,
   "metadata": {},
   "outputs": [
    {
     "data": {
      "text/html": [
       "<div>\n",
       "<style scoped>\n",
       "    .dataframe tbody tr th:only-of-type {\n",
       "        vertical-align: middle;\n",
       "    }\n",
       "\n",
       "    .dataframe tbody tr th {\n",
       "        vertical-align: top;\n",
       "    }\n",
       "\n",
       "    .dataframe thead th {\n",
       "        text-align: right;\n",
       "    }\n",
       "</style>\n",
       "<table border=\"1\" class=\"dataframe\">\n",
       "  <thead>\n",
       "    <tr style=\"text-align: right;\">\n",
       "      <th></th>\n",
       "      <th>code</th>\n",
       "      <th>name</th>\n",
       "    </tr>\n",
       "  </thead>\n",
       "  <tbody>\n",
       "    <tr>\n",
       "      <th>0</th>\n",
       "      <td>000552</td>\n",
       "      <td>靖远煤电</td>\n",
       "    </tr>\n",
       "    <tr>\n",
       "      <th>1</th>\n",
       "      <td>601000</td>\n",
       "      <td>唐山港</td>\n",
       "    </tr>\n",
       "    <tr>\n",
       "      <th>2</th>\n",
       "      <td>600757</td>\n",
       "      <td>长江传媒</td>\n",
       "    </tr>\n",
       "    <tr>\n",
       "      <th>3</th>\n",
       "      <td>601088</td>\n",
       "      <td>中国神华</td>\n",
       "    </tr>\n",
       "    <tr>\n",
       "      <th>4</th>\n",
       "      <td>601006</td>\n",
       "      <td>大秦铁路</td>\n",
       "    </tr>\n",
       "    <tr>\n",
       "      <th>...</th>\n",
       "      <td>...</td>\n",
       "      <td>...</td>\n",
       "    </tr>\n",
       "    <tr>\n",
       "      <th>95</th>\n",
       "      <td>000799</td>\n",
       "      <td>酒鬼酒</td>\n",
       "    </tr>\n",
       "    <tr>\n",
       "      <th>96</th>\n",
       "      <td>603387</td>\n",
       "      <td>基蛋生物</td>\n",
       "    </tr>\n",
       "    <tr>\n",
       "      <th>97</th>\n",
       "      <td>603596</td>\n",
       "      <td>伯特利</td>\n",
       "    </tr>\n",
       "    <tr>\n",
       "      <th>98</th>\n",
       "      <td>002947</td>\n",
       "      <td>恒铭达</td>\n",
       "    </tr>\n",
       "    <tr>\n",
       "      <th>99</th>\n",
       "      <td>002851</td>\n",
       "      <td>麦格米特</td>\n",
       "    </tr>\n",
       "  </tbody>\n",
       "</table>\n",
       "<p>100 rows × 2 columns</p>\n",
       "</div>"
      ],
      "text/plain": [
       "      code  name\n",
       "0   000552  靖远煤电\n",
       "1   601000   唐山港\n",
       "2   600757  长江传媒\n",
       "3   601088  中国神华\n",
       "4   601006  大秦铁路\n",
       "..     ...   ...\n",
       "95  000799   酒鬼酒\n",
       "96  603387  基蛋生物\n",
       "97  603596   伯特利\n",
       "98  002947   恒铭达\n",
       "99  002851  麦格米特\n",
       "\n",
       "[100 rows x 2 columns]"
      ]
     },
     "execution_count": 44,
     "metadata": {},
     "output_type": "execute_result"
    }
   ],
   "source": [
    "df"
   ]
  },
  {
   "cell_type": "code",
   "execution_count": 112,
   "metadata": {},
   "outputs": [],
   "source": [
    "class Share(object):\n",
    "    def __init__(self, html_doc: str):\n",
    "        self.code = ''\n",
    "        self.name = ''\n",
    "        self.amount = 0\n",
    "        self.point = 0\n",
    "        self.PB = 0\n",
    "        self.ROE = 0\n",
    "        self.stocks = []\n",
    "        self.code_list = []\n",
    "        self.df = pd.DataFrame\n",
    "        self.doc = html_doc\n",
    "\n",
    "    def demo(self):\n",
    "        soup = BeautifulSoup(open(self.doc, encoding='utf-8'), features='lxml')\n",
    "        self.stocks = [name.string.strip() for name in\n",
    "                       soup.find_all('div', 'name___3jt4_')]  # <div class=\"name___3jt4_\">\n",
    "        self.code_list = [code.string.strip() for code in\n",
    "                          soup.find_all('div', 'code___1acmC')]  # <div class=\"code___1acmC\">\n",
    "        self.df = pd.DataFrame({'代码': self.code_list, '股票名称': self.stocks})\n",
    "        soup_card = soup.find_all('div', id='card')[0].div\n",
    "        children = [child for child in soup_card.children]\n",
    "        child6 = children[5]  # 定位到 soup_card 第 6 个 child\n",
    "        result = [c.string.strip() for c in child6.div.children if\n",
    "                            c != '\\n']  # - string.strip() 去掉前后空格  - if c!='\\n' 列表排除 换行符\n",
    "        self.code = re.sub(r'\\D', \"\", result[0])\n",
    "        self.name = re.search(r'\\w+', result[0]).group()\n",
    "        obj = list(\n",
    "            map(lambda x: {x.split(\"：\")[0]: x.split(\"：\")[1]},\n",
    "                result[1:]))  # map(a, b) ## a 是函数，用来处理 b 参数 ## b 是可迭代对象\n",
    "        self.point = obj[0].get('摸鱼得分')\n",
    "        self.amount = obj[1].get('市值')\n",
    "        self.PB = obj[2].get('PB')\n",
    "        self.ROE = obj[3].get('ROE')\n",
    "    def assemble(self):\n",
    "        self.demo()\n",
    "        self.df.loc[self.df['代码'] == self.code, '摸鱼得分'] = self.point\n",
    "        self.df.loc[self.df['代码'] == self.code, '市值'] = self.amount\n",
    "        self.df.loc[self.df['代码'] == self.code, 'PB'] = self.PB\n",
    "        self.df.loc[self.df['代码'] == self.code, 'ROE'] = self.ROE"
   ]
  },
  {
   "cell_type": "code",
   "execution_count": 113,
   "metadata": {},
   "outputs": [],
   "source": [
    "share = Share('moyu100.html')"
   ]
  },
  {
   "cell_type": "code",
   "execution_count": 114,
   "metadata": {},
   "outputs": [],
   "source": [
    "share.demo()"
   ]
  },
  {
   "cell_type": "code",
   "execution_count": 115,
   "metadata": {},
   "outputs": [
    {
     "data": {
      "text/plain": [
       "'4.17'"
      ]
     },
     "execution_count": 115,
     "metadata": {},
     "output_type": "execute_result"
    }
   ],
   "source": [
    "share.PB"
   ]
  },
  {
   "cell_type": "code",
   "execution_count": 116,
   "metadata": {},
   "outputs": [
    {
     "data": {
      "text/plain": [
       "'188.32 亿'"
      ]
     },
     "execution_count": 116,
     "metadata": {},
     "output_type": "execute_result"
    }
   ],
   "source": [
    "share.amount"
   ]
  },
  {
   "cell_type": "code",
   "execution_count": 117,
   "metadata": {},
   "outputs": [
    {
     "data": {
      "text/html": [
       "<div>\n",
       "<style scoped>\n",
       "    .dataframe tbody tr th:only-of-type {\n",
       "        vertical-align: middle;\n",
       "    }\n",
       "\n",
       "    .dataframe tbody tr th {\n",
       "        vertical-align: top;\n",
       "    }\n",
       "\n",
       "    .dataframe thead th {\n",
       "        text-align: right;\n",
       "    }\n",
       "</style>\n",
       "<table border=\"1\" class=\"dataframe\">\n",
       "  <thead>\n",
       "    <tr style=\"text-align: right;\">\n",
       "      <th></th>\n",
       "      <th>代码</th>\n",
       "      <th>股票名称</th>\n",
       "    </tr>\n",
       "  </thead>\n",
       "  <tbody>\n",
       "    <tr>\n",
       "      <th>0</th>\n",
       "      <td>000552</td>\n",
       "      <td>靖远煤电</td>\n",
       "    </tr>\n",
       "    <tr>\n",
       "      <th>1</th>\n",
       "      <td>601000</td>\n",
       "      <td>唐山港</td>\n",
       "    </tr>\n",
       "    <tr>\n",
       "      <th>2</th>\n",
       "      <td>600757</td>\n",
       "      <td>长江传媒</td>\n",
       "    </tr>\n",
       "    <tr>\n",
       "      <th>3</th>\n",
       "      <td>601088</td>\n",
       "      <td>中国神华</td>\n",
       "    </tr>\n",
       "    <tr>\n",
       "      <th>4</th>\n",
       "      <td>601006</td>\n",
       "      <td>大秦铁路</td>\n",
       "    </tr>\n",
       "    <tr>\n",
       "      <th>...</th>\n",
       "      <td>...</td>\n",
       "      <td>...</td>\n",
       "    </tr>\n",
       "    <tr>\n",
       "      <th>95</th>\n",
       "      <td>000799</td>\n",
       "      <td>酒鬼酒</td>\n",
       "    </tr>\n",
       "    <tr>\n",
       "      <th>96</th>\n",
       "      <td>603387</td>\n",
       "      <td>基蛋生物</td>\n",
       "    </tr>\n",
       "    <tr>\n",
       "      <th>97</th>\n",
       "      <td>603596</td>\n",
       "      <td>伯特利</td>\n",
       "    </tr>\n",
       "    <tr>\n",
       "      <th>98</th>\n",
       "      <td>002947</td>\n",
       "      <td>恒铭达</td>\n",
       "    </tr>\n",
       "    <tr>\n",
       "      <th>99</th>\n",
       "      <td>002851</td>\n",
       "      <td>麦格米特</td>\n",
       "    </tr>\n",
       "  </tbody>\n",
       "</table>\n",
       "<p>100 rows × 2 columns</p>\n",
       "</div>"
      ],
      "text/plain": [
       "        代码  股票名称\n",
       "0   000552  靖远煤电\n",
       "1   601000   唐山港\n",
       "2   600757  长江传媒\n",
       "3   601088  中国神华\n",
       "4   601006  大秦铁路\n",
       "..     ...   ...\n",
       "95  000799   酒鬼酒\n",
       "96  603387  基蛋生物\n",
       "97  603596   伯特利\n",
       "98  002947   恒铭达\n",
       "99  002851  麦格米特\n",
       "\n",
       "[100 rows x 2 columns]"
      ]
     },
     "execution_count": 117,
     "metadata": {},
     "output_type": "execute_result"
    }
   ],
   "source": [
    "share.df"
   ]
  },
  {
   "cell_type": "code",
   "execution_count": 118,
   "metadata": {},
   "outputs": [],
   "source": [
    "share.df['摸鱼得分']=0"
   ]
  },
  {
   "cell_type": "code",
   "execution_count": 119,
   "metadata": {},
   "outputs": [
    {
     "data": {
      "text/plain": [
       "代码      000552\n",
       "股票名称      靖远煤电\n",
       "摸鱼得分         0\n",
       "dtype: object"
      ]
     },
     "execution_count": 119,
     "metadata": {},
     "output_type": "execute_result"
    }
   ],
   "source": [
    "share.df.apply(lambda x:x[0])"
   ]
  },
  {
   "cell_type": "code",
   "execution_count": 120,
   "metadata": {},
   "outputs": [],
   "source": [
    "share.df.loc[share.df['代码']==share.code, '摸鱼得分'] =share.point"
   ]
  },
  {
   "cell_type": "code",
   "execution_count": 121,
   "metadata": {},
   "outputs": [
    {
     "data": {
      "text/plain": [
       "'84'"
      ]
     },
     "execution_count": 121,
     "metadata": {},
     "output_type": "execute_result"
    }
   ],
   "source": [
    "share.point"
   ]
  },
  {
   "cell_type": "code",
   "execution_count": 122,
   "metadata": {},
   "outputs": [
    {
     "data": {
      "text/plain": [
       "True"
      ]
     },
     "execution_count": 122,
     "metadata": {},
     "output_type": "execute_result"
    }
   ],
   "source": [
    "share.code =='603198'"
   ]
  },
  {
   "cell_type": "code",
   "execution_count": 123,
   "metadata": {},
   "outputs": [
    {
     "data": {
      "text/plain": [
       "代码      603198\n",
       "股票名称      迎驾贡酒\n",
       "摸鱼得分        84\n",
       "Name: 61, dtype: object"
      ]
     },
     "execution_count": 123,
     "metadata": {},
     "output_type": "execute_result"
    }
   ],
   "source": [
    "share.df.iloc[61]"
   ]
  },
  {
   "cell_type": "code",
   "execution_count": 126,
   "metadata": {},
   "outputs": [],
   "source": [
    "share.assemble()"
   ]
  },
  {
   "cell_type": "code",
   "execution_count": 128,
   "metadata": {},
   "outputs": [
    {
     "data": {
      "text/html": [
       "<div>\n",
       "<style scoped>\n",
       "    .dataframe tbody tr th:only-of-type {\n",
       "        vertical-align: middle;\n",
       "    }\n",
       "\n",
       "    .dataframe tbody tr th {\n",
       "        vertical-align: top;\n",
       "    }\n",
       "\n",
       "    .dataframe thead th {\n",
       "        text-align: right;\n",
       "    }\n",
       "</style>\n",
       "<table border=\"1\" class=\"dataframe\">\n",
       "  <thead>\n",
       "    <tr style=\"text-align: right;\">\n",
       "      <th></th>\n",
       "      <th>代码</th>\n",
       "      <th>股票名称</th>\n",
       "      <th>摸鱼得分</th>\n",
       "      <th>市值</th>\n",
       "      <th>PB</th>\n",
       "      <th>ROE</th>\n",
       "    </tr>\n",
       "  </thead>\n",
       "  <tbody>\n",
       "    <tr>\n",
       "      <th>0</th>\n",
       "      <td>000552</td>\n",
       "      <td>靖远煤电</td>\n",
       "      <td>NaN</td>\n",
       "      <td>NaN</td>\n",
       "      <td>NaN</td>\n",
       "      <td>NaN</td>\n",
       "    </tr>\n",
       "    <tr>\n",
       "      <th>1</th>\n",
       "      <td>601000</td>\n",
       "      <td>唐山港</td>\n",
       "      <td>NaN</td>\n",
       "      <td>NaN</td>\n",
       "      <td>NaN</td>\n",
       "      <td>NaN</td>\n",
       "    </tr>\n",
       "    <tr>\n",
       "      <th>2</th>\n",
       "      <td>600757</td>\n",
       "      <td>长江传媒</td>\n",
       "      <td>NaN</td>\n",
       "      <td>NaN</td>\n",
       "      <td>NaN</td>\n",
       "      <td>NaN</td>\n",
       "    </tr>\n",
       "    <tr>\n",
       "      <th>3</th>\n",
       "      <td>601088</td>\n",
       "      <td>中国神华</td>\n",
       "      <td>NaN</td>\n",
       "      <td>NaN</td>\n",
       "      <td>NaN</td>\n",
       "      <td>NaN</td>\n",
       "    </tr>\n",
       "    <tr>\n",
       "      <th>4</th>\n",
       "      <td>601006</td>\n",
       "      <td>大秦铁路</td>\n",
       "      <td>NaN</td>\n",
       "      <td>NaN</td>\n",
       "      <td>NaN</td>\n",
       "      <td>NaN</td>\n",
       "    </tr>\n",
       "    <tr>\n",
       "      <th>...</th>\n",
       "      <td>...</td>\n",
       "      <td>...</td>\n",
       "      <td>...</td>\n",
       "      <td>...</td>\n",
       "      <td>...</td>\n",
       "      <td>...</td>\n",
       "    </tr>\n",
       "    <tr>\n",
       "      <th>95</th>\n",
       "      <td>000799</td>\n",
       "      <td>酒鬼酒</td>\n",
       "      <td>NaN</td>\n",
       "      <td>NaN</td>\n",
       "      <td>NaN</td>\n",
       "      <td>NaN</td>\n",
       "    </tr>\n",
       "    <tr>\n",
       "      <th>96</th>\n",
       "      <td>603387</td>\n",
       "      <td>基蛋生物</td>\n",
       "      <td>NaN</td>\n",
       "      <td>NaN</td>\n",
       "      <td>NaN</td>\n",
       "      <td>NaN</td>\n",
       "    </tr>\n",
       "    <tr>\n",
       "      <th>97</th>\n",
       "      <td>603596</td>\n",
       "      <td>伯特利</td>\n",
       "      <td>NaN</td>\n",
       "      <td>NaN</td>\n",
       "      <td>NaN</td>\n",
       "      <td>NaN</td>\n",
       "    </tr>\n",
       "    <tr>\n",
       "      <th>98</th>\n",
       "      <td>002947</td>\n",
       "      <td>恒铭达</td>\n",
       "      <td>NaN</td>\n",
       "      <td>NaN</td>\n",
       "      <td>NaN</td>\n",
       "      <td>NaN</td>\n",
       "    </tr>\n",
       "    <tr>\n",
       "      <th>99</th>\n",
       "      <td>002851</td>\n",
       "      <td>麦格米特</td>\n",
       "      <td>NaN</td>\n",
       "      <td>NaN</td>\n",
       "      <td>NaN</td>\n",
       "      <td>NaN</td>\n",
       "    </tr>\n",
       "  </tbody>\n",
       "</table>\n",
       "<p>100 rows × 6 columns</p>\n",
       "</div>"
      ],
      "text/plain": [
       "        代码  股票名称 摸鱼得分   市值   PB  ROE\n",
       "0   000552  靖远煤电  NaN  NaN  NaN  NaN\n",
       "1   601000   唐山港  NaN  NaN  NaN  NaN\n",
       "2   600757  长江传媒  NaN  NaN  NaN  NaN\n",
       "3   601088  中国神华  NaN  NaN  NaN  NaN\n",
       "4   601006  大秦铁路  NaN  NaN  NaN  NaN\n",
       "..     ...   ...  ...  ...  ...  ...\n",
       "95  000799   酒鬼酒  NaN  NaN  NaN  NaN\n",
       "96  603387  基蛋生物  NaN  NaN  NaN  NaN\n",
       "97  603596   伯特利  NaN  NaN  NaN  NaN\n",
       "98  002947   恒铭达  NaN  NaN  NaN  NaN\n",
       "99  002851  麦格米特  NaN  NaN  NaN  NaN\n",
       "\n",
       "[100 rows x 6 columns]"
      ]
     },
     "execution_count": 128,
     "metadata": {},
     "output_type": "execute_result"
    }
   ],
   "source": [
    "share.df"
   ]
  },
  {
   "cell_type": "code",
   "execution_count": 278,
   "metadata": {},
   "outputs": [],
   "source": [
    "class Share(object):\n",
    "    def __init__(self, **kwargs):\n",
    "        self.code = ''\n",
    "        self.name = ''\n",
    "        self.amount = ''\n",
    "        self.point = 0\n",
    "        self.PB = 0\n",
    "        self.ROE = 0\n",
    "        self.stocks = []\n",
    "        self.code_list = []\n",
    "        self.doc = kwargs.get('doc_html')\n",
    "        if kwargs.get('file_csv'):\n",
    "            file_path = kwargs.get('file_csv')\n",
    "            self.df = pd.read_csv(file_path, encoding='gbk')\n",
    "        else:\n",
    "            self.df = pd.DataFrame()\n",
    "\n",
    "    def demo(self):\n",
    "        soup = BeautifulSoup(open(self.doc, encoding='utf-8'), features='lxml')\n",
    "        if self.df.empty:\n",
    "            self.stocks = [name.string.strip() for name in\n",
    "                           soup.find_all('div', 'name___3jt4_')]  # <div class=\"name___3jt4_\">\n",
    "            self.code_list = [code.string.strip() for code in\n",
    "                              soup.find_all('div', 'code___1acmC')]  # <div class=\"code___1acmC\">\n",
    "\n",
    "            self.df = pd.DataFrame({'股票代码': self.code_list, '股票名称': self.stocks})\n",
    "        soup_card = soup.find_all('div', id='card')[0].div\n",
    "        soup_card.find_all('div', string=re.compile('(\\d+)'))\n",
    "        card = soup_card.find_all('div', string=re.compile('(\\d+)'))\n",
    "        if len(card) == 5:\n",
    "            card_string = [c.string.strip() for c in card]\n",
    "            self.code = re.sub(r'\\D', \"\",\n",
    "                               card_string[0])  # re.sub(pattern, repl, string, count=0, flags=0) ## 删除非数字(-)的字符串\n",
    "            self.name = re.search('\\w+', card_string[0]).group()\n",
    "            card_paPR = list(map(lambda x: {x.split(\"：\")[0]: x.split(\"：\")[1]},\n",
    "                                 card_string[1:]))  # map(a, b) ## a 是函数，用来处理 b 参数 ## b 是可迭代对象\n",
    "            self.point = card_paPR[0].get('摸鱼得分')\n",
    "            self.amount = card_paPR[1].get('市值')\n",
    "            self.PB = card_paPR[2].get('PB')\n",
    "            self.ROE = card_paPR[3].get('ROE')\n",
    "            self.df.loc[self.df['股票代码'] == self.code, '摸鱼得分'] = self.point\n",
    "            self.df.loc[self.df['股票代码'] == self.code, '市值'] = self.amount\n",
    "            self.df.loc[self.df['股票代码'] == self.code, 'PB'] = self.PB\n",
    "            self.df.loc[self.df['股票代码'] == self.code, 'ROE'] = self.ROE\n",
    "            # self.df.to_csv(r'moyu100.csv', encoding='gbk', index=False)\n",
    "            return self.df\n",
    "\n",
    "\n"
   ]
  },
  {
   "cell_type": "code",
   "execution_count": 279,
   "metadata": {},
   "outputs": [],
   "source": [
    "share = Share(doc_html='moyu100.html', file_csv='moyu100.csv')\n"
   ]
  },
  {
   "cell_type": "code",
   "execution_count": 280,
   "metadata": {},
   "outputs": [
    {
     "data": {
      "text/html": [
       "<div>\n",
       "<style scoped>\n",
       "    .dataframe tbody tr th:only-of-type {\n",
       "        vertical-align: middle;\n",
       "    }\n",
       "\n",
       "    .dataframe tbody tr th {\n",
       "        vertical-align: top;\n",
       "    }\n",
       "\n",
       "    .dataframe thead th {\n",
       "        text-align: right;\n",
       "    }\n",
       "</style>\n",
       "<table border=\"1\" class=\"dataframe\">\n",
       "  <thead>\n",
       "    <tr style=\"text-align: right;\">\n",
       "      <th></th>\n",
       "      <th>股票代码</th>\n",
       "      <th>股票名称</th>\n",
       "      <th>摸鱼得分</th>\n",
       "      <th>市值</th>\n",
       "      <th>PB</th>\n",
       "      <th>ROE</th>\n",
       "    </tr>\n",
       "  </thead>\n",
       "  <tbody>\n",
       "    <tr>\n",
       "      <th>0</th>\n",
       "      <td>552</td>\n",
       "      <td>靖远煤电</td>\n",
       "      <td>NaN</td>\n",
       "      <td>NaN</td>\n",
       "      <td>NaN</td>\n",
       "      <td>NaN</td>\n",
       "    </tr>\n",
       "    <tr>\n",
       "      <th>1</th>\n",
       "      <td>601000</td>\n",
       "      <td>唐山港</td>\n",
       "      <td>NaN</td>\n",
       "      <td>NaN</td>\n",
       "      <td>NaN</td>\n",
       "      <td>NaN</td>\n",
       "    </tr>\n",
       "    <tr>\n",
       "      <th>2</th>\n",
       "      <td>600757</td>\n",
       "      <td>长江传媒</td>\n",
       "      <td>NaN</td>\n",
       "      <td>NaN</td>\n",
       "      <td>NaN</td>\n",
       "      <td>NaN</td>\n",
       "    </tr>\n",
       "    <tr>\n",
       "      <th>3</th>\n",
       "      <td>601088</td>\n",
       "      <td>中国神华</td>\n",
       "      <td>NaN</td>\n",
       "      <td>NaN</td>\n",
       "      <td>NaN</td>\n",
       "      <td>NaN</td>\n",
       "    </tr>\n",
       "    <tr>\n",
       "      <th>4</th>\n",
       "      <td>601006</td>\n",
       "      <td>大秦铁路</td>\n",
       "      <td>NaN</td>\n",
       "      <td>NaN</td>\n",
       "      <td>NaN</td>\n",
       "      <td>NaN</td>\n",
       "    </tr>\n",
       "    <tr>\n",
       "      <th>...</th>\n",
       "      <td>...</td>\n",
       "      <td>...</td>\n",
       "      <td>...</td>\n",
       "      <td>...</td>\n",
       "      <td>...</td>\n",
       "      <td>...</td>\n",
       "    </tr>\n",
       "    <tr>\n",
       "      <th>95</th>\n",
       "      <td>799</td>\n",
       "      <td>酒鬼酒</td>\n",
       "      <td>NaN</td>\n",
       "      <td>NaN</td>\n",
       "      <td>NaN</td>\n",
       "      <td>NaN</td>\n",
       "    </tr>\n",
       "    <tr>\n",
       "      <th>96</th>\n",
       "      <td>603387</td>\n",
       "      <td>基蛋生物</td>\n",
       "      <td>NaN</td>\n",
       "      <td>NaN</td>\n",
       "      <td>NaN</td>\n",
       "      <td>NaN</td>\n",
       "    </tr>\n",
       "    <tr>\n",
       "      <th>97</th>\n",
       "      <td>603596</td>\n",
       "      <td>伯特利</td>\n",
       "      <td>NaN</td>\n",
       "      <td>NaN</td>\n",
       "      <td>NaN</td>\n",
       "      <td>NaN</td>\n",
       "    </tr>\n",
       "    <tr>\n",
       "      <th>98</th>\n",
       "      <td>2947</td>\n",
       "      <td>恒铭达</td>\n",
       "      <td>NaN</td>\n",
       "      <td>NaN</td>\n",
       "      <td>NaN</td>\n",
       "      <td>NaN</td>\n",
       "    </tr>\n",
       "    <tr>\n",
       "      <th>99</th>\n",
       "      <td>2851</td>\n",
       "      <td>麦格米特</td>\n",
       "      <td>86.0</td>\n",
       "      <td>153.24 亿</td>\n",
       "      <td>7.7</td>\n",
       "      <td>17.77%</td>\n",
       "    </tr>\n",
       "  </tbody>\n",
       "</table>\n",
       "<p>100 rows × 6 columns</p>\n",
       "</div>"
      ],
      "text/plain": [
       "      股票代码  股票名称  摸鱼得分        市值   PB     ROE\n",
       "0      552  靖远煤电   NaN       NaN  NaN     NaN\n",
       "1   601000   唐山港   NaN       NaN  NaN     NaN\n",
       "2   600757  长江传媒   NaN       NaN  NaN     NaN\n",
       "3   601088  中国神华   NaN       NaN  NaN     NaN\n",
       "4   601006  大秦铁路   NaN       NaN  NaN     NaN\n",
       "..     ...   ...   ...       ...  ...     ...\n",
       "95     799   酒鬼酒   NaN       NaN  NaN     NaN\n",
       "96  603387  基蛋生物   NaN       NaN  NaN     NaN\n",
       "97  603596   伯特利   NaN       NaN  NaN     NaN\n",
       "98    2947   恒铭达   NaN       NaN  NaN     NaN\n",
       "99    2851  麦格米特  86.0  153.24 亿  7.7  17.77%\n",
       "\n",
       "[100 rows x 6 columns]"
      ]
     },
     "execution_count": 280,
     "metadata": {},
     "output_type": "execute_result"
    }
   ],
   "source": [
    "share.df"
   ]
  },
  {
   "cell_type": "code",
   "execution_count": 281,
   "metadata": {},
   "outputs": [
    {
     "name": "stderr",
     "output_type": "stream",
     "text": [
      "c:\\users\\v\\anaconda3\\envs\\xbx_python\\lib\\site-packages\\pandas\\core\\ops\\array_ops.py:253: FutureWarning: elementwise comparison failed; returning scalar instead, but in the future will perform elementwise comparison\n",
      "  res_values = method(rvalues)\n"
     ]
    },
    {
     "data": {
      "text/html": [
       "<div>\n",
       "<style scoped>\n",
       "    .dataframe tbody tr th:only-of-type {\n",
       "        vertical-align: middle;\n",
       "    }\n",
       "\n",
       "    .dataframe tbody tr th {\n",
       "        vertical-align: top;\n",
       "    }\n",
       "\n",
       "    .dataframe thead th {\n",
       "        text-align: right;\n",
       "    }\n",
       "</style>\n",
       "<table border=\"1\" class=\"dataframe\">\n",
       "  <thead>\n",
       "    <tr style=\"text-align: right;\">\n",
       "      <th></th>\n",
       "      <th>股票代码</th>\n",
       "      <th>股票名称</th>\n",
       "      <th>摸鱼得分</th>\n",
       "      <th>市值</th>\n",
       "      <th>PB</th>\n",
       "      <th>ROE</th>\n",
       "    </tr>\n",
       "  </thead>\n",
       "  <tbody>\n",
       "    <tr>\n",
       "      <th>0</th>\n",
       "      <td>552</td>\n",
       "      <td>靖远煤电</td>\n",
       "      <td>NaN</td>\n",
       "      <td>NaN</td>\n",
       "      <td>NaN</td>\n",
       "      <td>NaN</td>\n",
       "    </tr>\n",
       "    <tr>\n",
       "      <th>1</th>\n",
       "      <td>601000</td>\n",
       "      <td>唐山港</td>\n",
       "      <td>NaN</td>\n",
       "      <td>NaN</td>\n",
       "      <td>NaN</td>\n",
       "      <td>NaN</td>\n",
       "    </tr>\n",
       "    <tr>\n",
       "      <th>2</th>\n",
       "      <td>600757</td>\n",
       "      <td>长江传媒</td>\n",
       "      <td>NaN</td>\n",
       "      <td>NaN</td>\n",
       "      <td>NaN</td>\n",
       "      <td>NaN</td>\n",
       "    </tr>\n",
       "    <tr>\n",
       "      <th>3</th>\n",
       "      <td>601088</td>\n",
       "      <td>中国神华</td>\n",
       "      <td>NaN</td>\n",
       "      <td>NaN</td>\n",
       "      <td>NaN</td>\n",
       "      <td>NaN</td>\n",
       "    </tr>\n",
       "    <tr>\n",
       "      <th>4</th>\n",
       "      <td>601006</td>\n",
       "      <td>大秦铁路</td>\n",
       "      <td>NaN</td>\n",
       "      <td>NaN</td>\n",
       "      <td>NaN</td>\n",
       "      <td>NaN</td>\n",
       "    </tr>\n",
       "    <tr>\n",
       "      <th>...</th>\n",
       "      <td>...</td>\n",
       "      <td>...</td>\n",
       "      <td>...</td>\n",
       "      <td>...</td>\n",
       "      <td>...</td>\n",
       "      <td>...</td>\n",
       "    </tr>\n",
       "    <tr>\n",
       "      <th>95</th>\n",
       "      <td>799</td>\n",
       "      <td>酒鬼酒</td>\n",
       "      <td>NaN</td>\n",
       "      <td>NaN</td>\n",
       "      <td>NaN</td>\n",
       "      <td>NaN</td>\n",
       "    </tr>\n",
       "    <tr>\n",
       "      <th>96</th>\n",
       "      <td>603387</td>\n",
       "      <td>基蛋生物</td>\n",
       "      <td>NaN</td>\n",
       "      <td>NaN</td>\n",
       "      <td>NaN</td>\n",
       "      <td>NaN</td>\n",
       "    </tr>\n",
       "    <tr>\n",
       "      <th>97</th>\n",
       "      <td>603596</td>\n",
       "      <td>伯特利</td>\n",
       "      <td>NaN</td>\n",
       "      <td>NaN</td>\n",
       "      <td>NaN</td>\n",
       "      <td>NaN</td>\n",
       "    </tr>\n",
       "    <tr>\n",
       "      <th>98</th>\n",
       "      <td>2947</td>\n",
       "      <td>恒铭达</td>\n",
       "      <td>NaN</td>\n",
       "      <td>NaN</td>\n",
       "      <td>NaN</td>\n",
       "      <td>NaN</td>\n",
       "    </tr>\n",
       "    <tr>\n",
       "      <th>99</th>\n",
       "      <td>2851</td>\n",
       "      <td>麦格米特</td>\n",
       "      <td>86</td>\n",
       "      <td>153.24 亿</td>\n",
       "      <td>7.7</td>\n",
       "      <td>17.77%</td>\n",
       "    </tr>\n",
       "  </tbody>\n",
       "</table>\n",
       "<p>100 rows × 6 columns</p>\n",
       "</div>"
      ],
      "text/plain": [
       "      股票代码  股票名称 摸鱼得分        市值   PB     ROE\n",
       "0      552  靖远煤电  NaN       NaN  NaN     NaN\n",
       "1   601000   唐山港  NaN       NaN  NaN     NaN\n",
       "2   600757  长江传媒  NaN       NaN  NaN     NaN\n",
       "3   601088  中国神华  NaN       NaN  NaN     NaN\n",
       "4   601006  大秦铁路  NaN       NaN  NaN     NaN\n",
       "..     ...   ...  ...       ...  ...     ...\n",
       "95     799   酒鬼酒  NaN       NaN  NaN     NaN\n",
       "96  603387  基蛋生物  NaN       NaN  NaN     NaN\n",
       "97  603596   伯特利  NaN       NaN  NaN     NaN\n",
       "98    2947   恒铭达  NaN       NaN  NaN     NaN\n",
       "99    2851  麦格米特   86  153.24 亿  7.7  17.77%\n",
       "\n",
       "[100 rows x 6 columns]"
      ]
     },
     "execution_count": 281,
     "metadata": {},
     "output_type": "execute_result"
    }
   ],
   "source": [
    "share.demo()"
   ]
  },
  {
   "cell_type": "code",
   "execution_count": 282,
   "metadata": {},
   "outputs": [
    {
     "data": {
      "text/plain": [
       "'84'"
      ]
     },
     "execution_count": 282,
     "metadata": {},
     "output_type": "execute_result"
    }
   ],
   "source": [
    "share.point"
   ]
  },
  {
   "cell_type": "code",
   "execution_count": 283,
   "metadata": {},
   "outputs": [
    {
     "data": {
      "text/plain": [
       "<div _echarts_instance_=\"ec_1599045278398\" class=\"echarts-for-react\" size-sensor-id=\"1\" style=\"height: 250px; width: 100%; -webkit-tap-highlight-color: transparent; -webkit-user-select: none; position: relative;\">\n",
       "<div style=\"position: relative; width: 1520px; height: 250px; padding: 0px; margin: 0px; border-width: 0px; cursor: default;\">\n",
       "<canvas data-zr-dom-id=\"zr_0\" height=\"250\" style=\"position: absolute; left: 0px; top: 0px; width: 1520px; height: 250px; -webkit-user-select: none; -webkit-tap-highlight-color: rgba(0, 0, 0, 0); padding: 0px; margin: 0px; border-width: 0px;\" width=\"1520\"></canvas>\n",
       "<canvas data-zr-dom-id=\"zr_10000\" height=\"250\" style=\"position: absolute; left: 0px; top: 0px; width: 1520px; height: 250px; -webkit-user-select: none; -webkit-tap-highlight-color: rgba(0, 0, 0, 0); padding: 0px; margin: 0px; border-width: 0px;\" width=\"1520\"></canvas>\n",
       "</div>\n",
       "<object class=\"size-sensor-object\" data=\"about:blank\" style=\"display: block; position: absolute; top: 0px; left: 0px; height: 100%; width: 100%; overflow: hidden; pointer-events: none; z-index: -1; opacity: 0;\" tabindex=\"-1\" type=\"text/html\"></object>\n",
       "<div style='position: absolute; display: none; border-style: solid; white-space: nowrap; z-index: 9999999; transition: left 0.4s cubic-bezier(0.23, 1, 0.32, 1), top 0.4s cubic-bezier(0.23, 1, 0.32, 1); background-color: rgba(50, 50, 50, 0.701961); border-width: 0px; border-color: rgb(51, 51, 51); border-radius: 4px; color: rgb(255, 255, 255); font-style: normal; font-variant: normal; font-weight: normal; font-stretch: normal; font-size: 14px; font-family: \"Microsoft YaHei\"; line-height: 21px; padding: 5px; left: 560px; top: -2px; pointer-events: none;'>\n",
       "<div>\n",
       "<div>\n",
       "           迎驾贡酒(603198)\n",
       "          </div>\n",
       "<div>\n",
       "           摸鱼得分：84\n",
       "          </div>\n",
       "<div>\n",
       "           市值：188.32 亿\n",
       "          </div>\n",
       "<div>\n",
       "           PB：4.17\n",
       "          </div>\n",
       "<div>\n",
       "           ROE：18.11%\n",
       "          </div>\n",
       "</div>\n",
       "</div>\n",
       "</div>"
      ]
     },
     "execution_count": 283,
     "metadata": {},
     "output_type": "execute_result"
    }
   ],
   "source": [
    "soup_card"
   ]
  },
  {
   "cell_type": "code",
   "execution_count": 284,
   "metadata": {},
   "outputs": [
    {
     "data": {
      "text/plain": [
       "'moyu100.html'"
      ]
     },
     "execution_count": 284,
     "metadata": {},
     "output_type": "execute_result"
    }
   ],
   "source": [
    "share.doc"
   ]
  },
  {
   "cell_type": "code",
   "execution_count": 285,
   "metadata": {},
   "outputs": [
    {
     "data": {
      "text/html": [
       "<div>\n",
       "<style scoped>\n",
       "    .dataframe tbody tr th:only-of-type {\n",
       "        vertical-align: middle;\n",
       "    }\n",
       "\n",
       "    .dataframe tbody tr th {\n",
       "        vertical-align: top;\n",
       "    }\n",
       "\n",
       "    .dataframe thead th {\n",
       "        text-align: right;\n",
       "    }\n",
       "</style>\n",
       "<table border=\"1\" class=\"dataframe\">\n",
       "  <thead>\n",
       "    <tr style=\"text-align: right;\">\n",
       "      <th></th>\n",
       "      <th>股票代码</th>\n",
       "      <th>股票名称</th>\n",
       "      <th>摸鱼得分</th>\n",
       "      <th>市值</th>\n",
       "      <th>PB</th>\n",
       "      <th>ROE</th>\n",
       "    </tr>\n",
       "  </thead>\n",
       "  <tbody>\n",
       "    <tr>\n",
       "      <th>0</th>\n",
       "      <td>552</td>\n",
       "      <td>靖远煤电</td>\n",
       "      <td>NaN</td>\n",
       "      <td>NaN</td>\n",
       "      <td>NaN</td>\n",
       "      <td>NaN</td>\n",
       "    </tr>\n",
       "    <tr>\n",
       "      <th>1</th>\n",
       "      <td>601000</td>\n",
       "      <td>唐山港</td>\n",
       "      <td>NaN</td>\n",
       "      <td>NaN</td>\n",
       "      <td>NaN</td>\n",
       "      <td>NaN</td>\n",
       "    </tr>\n",
       "    <tr>\n",
       "      <th>2</th>\n",
       "      <td>600757</td>\n",
       "      <td>长江传媒</td>\n",
       "      <td>NaN</td>\n",
       "      <td>NaN</td>\n",
       "      <td>NaN</td>\n",
       "      <td>NaN</td>\n",
       "    </tr>\n",
       "    <tr>\n",
       "      <th>3</th>\n",
       "      <td>601088</td>\n",
       "      <td>中国神华</td>\n",
       "      <td>NaN</td>\n",
       "      <td>NaN</td>\n",
       "      <td>NaN</td>\n",
       "      <td>NaN</td>\n",
       "    </tr>\n",
       "    <tr>\n",
       "      <th>4</th>\n",
       "      <td>601006</td>\n",
       "      <td>大秦铁路</td>\n",
       "      <td>NaN</td>\n",
       "      <td>NaN</td>\n",
       "      <td>NaN</td>\n",
       "      <td>NaN</td>\n",
       "    </tr>\n",
       "    <tr>\n",
       "      <th>...</th>\n",
       "      <td>...</td>\n",
       "      <td>...</td>\n",
       "      <td>...</td>\n",
       "      <td>...</td>\n",
       "      <td>...</td>\n",
       "      <td>...</td>\n",
       "    </tr>\n",
       "    <tr>\n",
       "      <th>95</th>\n",
       "      <td>799</td>\n",
       "      <td>酒鬼酒</td>\n",
       "      <td>NaN</td>\n",
       "      <td>NaN</td>\n",
       "      <td>NaN</td>\n",
       "      <td>NaN</td>\n",
       "    </tr>\n",
       "    <tr>\n",
       "      <th>96</th>\n",
       "      <td>603387</td>\n",
       "      <td>基蛋生物</td>\n",
       "      <td>NaN</td>\n",
       "      <td>NaN</td>\n",
       "      <td>NaN</td>\n",
       "      <td>NaN</td>\n",
       "    </tr>\n",
       "    <tr>\n",
       "      <th>97</th>\n",
       "      <td>603596</td>\n",
       "      <td>伯特利</td>\n",
       "      <td>NaN</td>\n",
       "      <td>NaN</td>\n",
       "      <td>NaN</td>\n",
       "      <td>NaN</td>\n",
       "    </tr>\n",
       "    <tr>\n",
       "      <th>98</th>\n",
       "      <td>2947</td>\n",
       "      <td>恒铭达</td>\n",
       "      <td>NaN</td>\n",
       "      <td>NaN</td>\n",
       "      <td>NaN</td>\n",
       "      <td>NaN</td>\n",
       "    </tr>\n",
       "    <tr>\n",
       "      <th>99</th>\n",
       "      <td>2851</td>\n",
       "      <td>麦格米特</td>\n",
       "      <td>86</td>\n",
       "      <td>153.24 亿</td>\n",
       "      <td>7.7</td>\n",
       "      <td>17.77%</td>\n",
       "    </tr>\n",
       "  </tbody>\n",
       "</table>\n",
       "<p>100 rows × 6 columns</p>\n",
       "</div>"
      ],
      "text/plain": [
       "      股票代码  股票名称 摸鱼得分        市值   PB     ROE\n",
       "0      552  靖远煤电  NaN       NaN  NaN     NaN\n",
       "1   601000   唐山港  NaN       NaN  NaN     NaN\n",
       "2   600757  长江传媒  NaN       NaN  NaN     NaN\n",
       "3   601088  中国神华  NaN       NaN  NaN     NaN\n",
       "4   601006  大秦铁路  NaN       NaN  NaN     NaN\n",
       "..     ...   ...  ...       ...  ...     ...\n",
       "95     799   酒鬼酒  NaN       NaN  NaN     NaN\n",
       "96  603387  基蛋生物  NaN       NaN  NaN     NaN\n",
       "97  603596   伯特利  NaN       NaN  NaN     NaN\n",
       "98    2947   恒铭达  NaN       NaN  NaN     NaN\n",
       "99    2851  麦格米特   86  153.24 亿  7.7  17.77%\n",
       "\n",
       "[100 rows x 6 columns]"
      ]
     },
     "execution_count": 285,
     "metadata": {},
     "output_type": "execute_result"
    }
   ],
   "source": [
    "share.df"
   ]
  },
  {
   "cell_type": "code",
   "execution_count": 286,
   "metadata": {},
   "outputs": [
    {
     "data": {
      "text/plain": [
       "'603198'"
      ]
     },
     "execution_count": 286,
     "metadata": {},
     "output_type": "execute_result"
    }
   ],
   "source": [
    "share.code"
   ]
  },
  {
   "cell_type": "code",
   "execution_count": 287,
   "metadata": {},
   "outputs": [
    {
     "data": {
      "text/plain": [
       "'迎驾贡酒'"
      ]
     },
     "execution_count": 287,
     "metadata": {},
     "output_type": "execute_result"
    }
   ],
   "source": [
    "share.name"
   ]
  },
  {
   "cell_type": "code",
   "execution_count": 288,
   "metadata": {},
   "outputs": [
    {
     "data": {
      "text/plain": [
       "'84'"
      ]
     },
     "execution_count": 288,
     "metadata": {},
     "output_type": "execute_result"
    }
   ],
   "source": [
    "share.point"
   ]
  },
  {
   "cell_type": "code",
   "execution_count": 289,
   "metadata": {},
   "outputs": [
    {
     "data": {
      "text/plain": [
       "'4.17'"
      ]
     },
     "execution_count": 289,
     "metadata": {},
     "output_type": "execute_result"
    }
   ],
   "source": [
    "share.PB"
   ]
  },
  {
   "cell_type": "code",
   "execution_count": 290,
   "metadata": {},
   "outputs": [
    {
     "data": {
      "text/plain": [
       "'18.11%'"
      ]
     },
     "execution_count": 290,
     "metadata": {},
     "output_type": "execute_result"
    }
   ],
   "source": [
    "share.ROE"
   ]
  },
  {
   "cell_type": "code",
   "execution_count": 293,
   "metadata": {},
   "outputs": [
    {
     "name": "stderr",
     "output_type": "stream",
     "text": [
      "c:\\users\\v\\anaconda3\\envs\\xbx_python\\lib\\site-packages\\pandas\\core\\ops\\array_ops.py:253: FutureWarning: elementwise comparison failed; returning scalar instead, but in the future will perform elementwise comparison\n",
      "  res_values = method(rvalues)\n"
     ]
    }
   ],
   "source": [
    "share.df.loc[share.df['股票代码'] == share.code, '摸鱼得分'] = share.point"
   ]
  },
  {
   "cell_type": "code",
   "execution_count": 302,
   "metadata": {},
   "outputs": [
    {
     "data": {
      "text/html": [
       "<div>\n",
       "<style scoped>\n",
       "    .dataframe tbody tr th:only-of-type {\n",
       "        vertical-align: middle;\n",
       "    }\n",
       "\n",
       "    .dataframe tbody tr th {\n",
       "        vertical-align: top;\n",
       "    }\n",
       "\n",
       "    .dataframe thead th {\n",
       "        text-align: right;\n",
       "    }\n",
       "</style>\n",
       "<table border=\"1\" class=\"dataframe\">\n",
       "  <thead>\n",
       "    <tr style=\"text-align: right;\">\n",
       "      <th></th>\n",
       "      <th>股票代码</th>\n",
       "      <th>股票名称</th>\n",
       "      <th>摸鱼得分</th>\n",
       "      <th>市值</th>\n",
       "      <th>PB</th>\n",
       "      <th>ROE</th>\n",
       "    </tr>\n",
       "  </thead>\n",
       "  <tbody>\n",
       "  </tbody>\n",
       "</table>\n",
       "</div>"
      ],
      "text/plain": [
       "Empty DataFrame\n",
       "Columns: [股票代码, 股票名称, 摸鱼得分, 市值, PB, ROE]\n",
       "Index: []"
      ]
     },
     "execution_count": 302,
     "metadata": {},
     "output_type": "execute_result"
    }
   ],
   "source": [
    "share.df[share.df['股票代码'] == share.code]"
   ]
  },
  {
   "cell_type": "code",
   "execution_count": 304,
   "metadata": {},
   "outputs": [
    {
     "data": {
      "text/plain": [
       "True"
      ]
     },
     "execution_count": 304,
     "metadata": {},
     "output_type": "execute_result"
    }
   ],
   "source": [
    "share.code =='603198'"
   ]
  },
  {
   "cell_type": "code",
   "execution_count": 305,
   "metadata": {},
   "outputs": [
    {
     "data": {
      "text/plain": [
       "'603198'"
      ]
     },
     "execution_count": 305,
     "metadata": {},
     "output_type": "execute_result"
    }
   ],
   "source": [
    "share.code"
   ]
  },
  {
   "cell_type": "code",
   "execution_count": 306,
   "metadata": {},
   "outputs": [],
   "source": [
    "share = Share(doc_html='a1.html', file_csv='moyu100.csv')"
   ]
  },
  {
   "cell_type": "code",
   "execution_count": 307,
   "metadata": {},
   "outputs": [
    {
     "name": "stderr",
     "output_type": "stream",
     "text": [
      "c:\\users\\v\\anaconda3\\envs\\xbx_python\\lib\\site-packages\\pandas\\core\\ops\\array_ops.py:253: FutureWarning: elementwise comparison failed; returning scalar instead, but in the future will perform elementwise comparison\n",
      "  res_values = method(rvalues)\n"
     ]
    },
    {
     "data": {
      "text/html": [
       "<div>\n",
       "<style scoped>\n",
       "    .dataframe tbody tr th:only-of-type {\n",
       "        vertical-align: middle;\n",
       "    }\n",
       "\n",
       "    .dataframe tbody tr th {\n",
       "        vertical-align: top;\n",
       "    }\n",
       "\n",
       "    .dataframe thead th {\n",
       "        text-align: right;\n",
       "    }\n",
       "</style>\n",
       "<table border=\"1\" class=\"dataframe\">\n",
       "  <thead>\n",
       "    <tr style=\"text-align: right;\">\n",
       "      <th></th>\n",
       "      <th>股票代码</th>\n",
       "      <th>股票名称</th>\n",
       "      <th>摸鱼得分</th>\n",
       "      <th>市值</th>\n",
       "      <th>PB</th>\n",
       "      <th>ROE</th>\n",
       "    </tr>\n",
       "  </thead>\n",
       "  <tbody>\n",
       "    <tr>\n",
       "      <th>0</th>\n",
       "      <td>552</td>\n",
       "      <td>靖远煤电</td>\n",
       "      <td>NaN</td>\n",
       "      <td>NaN</td>\n",
       "      <td>NaN</td>\n",
       "      <td>NaN</td>\n",
       "    </tr>\n",
       "    <tr>\n",
       "      <th>1</th>\n",
       "      <td>601000</td>\n",
       "      <td>唐山港</td>\n",
       "      <td>NaN</td>\n",
       "      <td>NaN</td>\n",
       "      <td>NaN</td>\n",
       "      <td>NaN</td>\n",
       "    </tr>\n",
       "    <tr>\n",
       "      <th>2</th>\n",
       "      <td>600757</td>\n",
       "      <td>长江传媒</td>\n",
       "      <td>NaN</td>\n",
       "      <td>NaN</td>\n",
       "      <td>NaN</td>\n",
       "      <td>NaN</td>\n",
       "    </tr>\n",
       "    <tr>\n",
       "      <th>3</th>\n",
       "      <td>601088</td>\n",
       "      <td>中国神华</td>\n",
       "      <td>NaN</td>\n",
       "      <td>NaN</td>\n",
       "      <td>NaN</td>\n",
       "      <td>NaN</td>\n",
       "    </tr>\n",
       "    <tr>\n",
       "      <th>4</th>\n",
       "      <td>601006</td>\n",
       "      <td>大秦铁路</td>\n",
       "      <td>NaN</td>\n",
       "      <td>NaN</td>\n",
       "      <td>NaN</td>\n",
       "      <td>NaN</td>\n",
       "    </tr>\n",
       "    <tr>\n",
       "      <th>...</th>\n",
       "      <td>...</td>\n",
       "      <td>...</td>\n",
       "      <td>...</td>\n",
       "      <td>...</td>\n",
       "      <td>...</td>\n",
       "      <td>...</td>\n",
       "    </tr>\n",
       "    <tr>\n",
       "      <th>95</th>\n",
       "      <td>799</td>\n",
       "      <td>酒鬼酒</td>\n",
       "      <td>NaN</td>\n",
       "      <td>NaN</td>\n",
       "      <td>NaN</td>\n",
       "      <td>NaN</td>\n",
       "    </tr>\n",
       "    <tr>\n",
       "      <th>96</th>\n",
       "      <td>603387</td>\n",
       "      <td>基蛋生物</td>\n",
       "      <td>NaN</td>\n",
       "      <td>NaN</td>\n",
       "      <td>NaN</td>\n",
       "      <td>NaN</td>\n",
       "    </tr>\n",
       "    <tr>\n",
       "      <th>97</th>\n",
       "      <td>603596</td>\n",
       "      <td>伯特利</td>\n",
       "      <td>NaN</td>\n",
       "      <td>NaN</td>\n",
       "      <td>NaN</td>\n",
       "      <td>NaN</td>\n",
       "    </tr>\n",
       "    <tr>\n",
       "      <th>98</th>\n",
       "      <td>2947</td>\n",
       "      <td>恒铭达</td>\n",
       "      <td>NaN</td>\n",
       "      <td>NaN</td>\n",
       "      <td>NaN</td>\n",
       "      <td>NaN</td>\n",
       "    </tr>\n",
       "    <tr>\n",
       "      <th>99</th>\n",
       "      <td>2851</td>\n",
       "      <td>麦格米特</td>\n",
       "      <td>86</td>\n",
       "      <td>153.24 亿</td>\n",
       "      <td>7.7</td>\n",
       "      <td>17.77%</td>\n",
       "    </tr>\n",
       "  </tbody>\n",
       "</table>\n",
       "<p>100 rows × 6 columns</p>\n",
       "</div>"
      ],
      "text/plain": [
       "      股票代码  股票名称 摸鱼得分        市值   PB     ROE\n",
       "0      552  靖远煤电  NaN       NaN  NaN     NaN\n",
       "1   601000   唐山港  NaN       NaN  NaN     NaN\n",
       "2   600757  长江传媒  NaN       NaN  NaN     NaN\n",
       "3   601088  中国神华  NaN       NaN  NaN     NaN\n",
       "4   601006  大秦铁路  NaN       NaN  NaN     NaN\n",
       "..     ...   ...  ...       ...  ...     ...\n",
       "95     799   酒鬼酒  NaN       NaN  NaN     NaN\n",
       "96  603387  基蛋生物  NaN       NaN  NaN     NaN\n",
       "97  603596   伯特利  NaN       NaN  NaN     NaN\n",
       "98    2947   恒铭达  NaN       NaN  NaN     NaN\n",
       "99    2851  麦格米特   86  153.24 亿  7.7  17.77%\n",
       "\n",
       "[100 rows x 6 columns]"
      ]
     },
     "execution_count": 307,
     "metadata": {},
     "output_type": "execute_result"
    }
   ],
   "source": [
    "share.demo()"
   ]
  },
  {
   "cell_type": "code",
   "execution_count": 308,
   "metadata": {},
   "outputs": [
    {
     "data": {
      "text/plain": [
       "'002851'"
      ]
     },
     "execution_count": 308,
     "metadata": {},
     "output_type": "execute_result"
    }
   ],
   "source": [
    "share.code"
   ]
  },
  {
   "cell_type": "code",
   "execution_count": null,
   "metadata": {},
   "outputs": [],
   "source": [
    "from bs4 import BeautifulSoup\n",
    "import pandas as pd\n",
    "import re\n",
    "\n",
    "\n",
    "class Share(object):\n",
    "    def __init__(self, **kwargs):\n",
    "        self.code = ''\n",
    "        self.name = ''\n",
    "        self.amount = ''\n",
    "        self.point = 0\n",
    "        self.PB = 0\n",
    "        self.ROE = 0\n",
    "        self.stocks = []\n",
    "        self.code_list = []\n",
    "        self.doc = kwargs.get('doc_html')\n",
    "        if kwargs.get('file_csv'):\n",
    "            file_path = kwargs.get('file_csv')\n",
    "            self.df = pd.read_csv(file_path, encoding='gbk', dtype={'股票代码': str})\n",
    "        else:\n",
    "            self.df = pd.DataFrame()\n",
    "\n",
    "    def demo(self):\n",
    "        soup = BeautifulSoup(open(self.doc, encoding='utf-8'), features='lxml')\n",
    "        if self.df.empty:\n",
    "            self.stocks = [name.string.strip() for name in\n",
    "                           soup.find_all('div', 'name___3jt4_')]  # <div class=\"name___3jt4_\">\n",
    "            self.code_list = [code.string.strip() for code in\n",
    "                              soup.find_all('div', 'code___1acmC')]  # <div class=\"code___1acmC\">\n",
    "\n",
    "            self.df = pd.DataFrame({'股票代码': self.code_list, '股票名称': self.stocks})\n",
    "        soup_card = soup.find_all('div', id='card')[0].div\n",
    "        card = soup_card.find_all('div', string=re.compile('(\\d+)'))\n",
    "        if len(card) == 5:\n",
    "            card_string = [c.string.strip() for c in card]\n",
    "            self.code = re.sub(r'\\D', \"\",\n",
    "                               card_string[0])  # re.sub(pattern, repl, string, count=0, flags=0) ## 删除非数字(-)的字符串\n",
    "            self.name = re.search('\\w+', card_string[0]).group()\n",
    "            card_paPR = list(map(lambda x: {x.split(\"：\")[0]: x.split(\"：\")[1]},\n",
    "                                 card_string[1:]))  # map(a, b) ## a 是函数，用来处理 b 参数 ## b 是可迭代对象\n",
    "            self.point = card_paPR[0].get('摸鱼得分')\n",
    "            self.amount = card_paPR[1].get('市值')\n",
    "            self.PB = card_paPR[2].get('PB')\n",
    "            self.ROE = card_paPR[3].get('ROE')\n",
    "            self.df.loc[self.df['股票代码'] == self.code, '摸鱼得分'] = self.point\n",
    "            self.df.loc[self.df['股票代码'] == self.code, '市值'] = self.amount\n",
    "            self.df.loc[self.df['股票代码'] == self.code, 'PB'] = self.PB\n",
    "            self.df.loc[self.df['股票代码'] == self.code, 'ROE'] = self.ROE\n",
    "            self.df.to_csv(r'moyu100.csv', encoding='gbk', index=False)\n",
    "            print(self.df[self.df['PB'].isna()]['股票名称'])\n",
    "            print(self.df.count())\n",
    "            return self.df\n",
    "\n",
    "\n",
    "if __name__ == '__main__':\n",
    "    share = Share(doc_html='a1.html', file_csv='moyu100.csv')\n",
    "    share.demo()\n"
   ]
  },
  {
   "cell_type": "code",
   "execution_count": 19,
   "metadata": {},
   "outputs": [],
   "source": [
    "df = pd.read_csv('moyu100.csv',  encoding='gbk', dtype={'股票代码':str})"
   ]
  },
  {
   "cell_type": "code",
   "execution_count": null,
   "metadata": {},
   "outputs": [],
   "source": []
  }
 ],
 "metadata": {
  "kernelspec": {
   "display_name": "Python 3",
   "language": "python",
   "name": "python3"
  },
  "language_info": {
   "codemirror_mode": {
    "name": "ipython",
    "version": 3
   },
   "file_extension": ".py",
   "mimetype": "text/x-python",
   "name": "python",
   "nbconvert_exporter": "python",
   "pygments_lexer": "ipython3",
   "version": "3.6.10"
  }
 },
 "nbformat": 4,
 "nbformat_minor": 4
}
